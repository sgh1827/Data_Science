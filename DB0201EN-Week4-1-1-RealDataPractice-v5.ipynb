{
    "cells": [
        {
            "metadata": {},
            "cell_type": "markdown",
            "source": "<center>\n    <img src=\"https://s3-api.us-geo.objectstorage.softlayer.net/cf-courses-data/CognitiveClass/Logos/organization_logo/organization_logo.png\" width=\"300\" alt=\"cognitiveclass.ai logo\"  />\n</center>\n\n# Working with a real world data-set using SQL and Python\n\nEstaimted time needed: **30** minutes\n\n## Objectives\n\nAfter complting this lab you will be able to:\n\n*   Understand the dataset for Chicago Public School level performance\n*   Store the dataset in an Db2 database on IBM Cloud instance\n*   Retrieve metadata about tables and columns and query data from mixed case columns\n*   Solve example problems to practice your SQL skills including using built-in database functions\n"
        },
        {
            "metadata": {},
            "cell_type": "markdown",
            "source": "## Chicago Public Schools - Progress Report Cards (2011-2012)\n\nThe city of Chicago released a dataset showing all school level performance data used to create School Report Cards for the 2011-2012 school year. The dataset is available from the Chicago Data Portal: [https://data.cityofchicago.org/Education/Chicago-Public-Schools-Progress-Report-Cards-2011-/9xs2-f89t](https://data.cityofchicago.org/Education/Chicago-Public-Schools-Progress-Report-Cards-2011-/9xs2-f89t?utm_medium=Exinfluencer&utm_source=Exinfluencer&utm_content=000026UJ&utm_term=10006555&utm_id=NA-SkillsNetwork-Channel-SkillsNetworkCoursesIBMDeveloperSkillsNetworkDB0201ENSkillsNetwork20127838-2021-01-01&cm_mmc=Email_Newsletter-\\_-Developer_Ed%2BTech-\\_-WW_WW-\\_-SkillsNetwork-Courses-IBMDeveloperSkillsNetwork-DB0201EN-SkillsNetwork-20127838&cm_mmca1=000026UJ&cm_mmca2=10006555&cm_mmca3=M12345678&cvosrc=email.Newsletter.M12345678&cvo_campaign=000026UJ)\n\nThis dataset includes a large number of metrics. Start by familiarizing yourself with the types of metrics in the database: [https://data.cityofchicago.org/api/assets/AAD41A13-BE8A-4E67-B1F5-86E711E09D5F?download=true](https://data.cityofchicago.org/api/assets/AAD41A13-BE8A-4E67-B1F5-86E711E09D5F?utm_medium=Exinfluencer&utm_source=Exinfluencer&utm_content=000026UJ&utm_term=10006555&utm_id=NA-SkillsNetwork-Channel-SkillsNetworkCoursesIBMDeveloperSkillsNetworkDB0201ENSkillsNetwork20127838-2021-01-01&download=true&cm_mmc=Email_Newsletter-\\_-Developer_Ed%2BTech-\\_-WW_WW-\\_-SkillsNetwork-Courses-IBMDeveloperSkillsNetwork-DB0201EN-SkillsNetwork-20127838&cm_mmca1=000026UJ&cm_mmca2=10006555&cm_mmca3=M12345678&cvosrc=email.Newsletter.M12345678&cvo_campaign=000026UJ)\n\n**NOTE**:\n\nDo not download the dataset directly from City of Chicago portal. Instead download a static copy which is a more database friendly version from this <a href=\"https://cf-courses-data.s3.us.cloud-object-storage.appdomain.cloud/IBMDeveloperSkillsNetwork-DB0201EN-SkillsNetwork/labs/FinalModule_Coursera_V5/data/ChicagoPublicSchools.csv?utm_medium=Exinfluencer&utm_source=Exinfluencer&utm_content=000026UJ&utm_term=10006555&utm_id=NA-SkillsNetwork-Channel-SkillsNetworkCoursesIBMDeveloperSkillsNetworkDB0201ENSkillsNetwork20127838-2021-01-01\">link</a>.\n\nNow review some of its contents.\n"
        },
        {
            "metadata": {},
            "cell_type": "markdown",
            "source": "### Store the dataset in a Table\n\nIn many cases the dataset to be analyzed is available as a .CSV (comma separated values) file, perhaps on the internet. To analyze the data using SQL, it first needs to be stored in the database.\n\nWhile it is easier to read the dataset into a Pandas dataframe and then PERSIST it into the database as we saw in the previous lab, it results in mapping to default datatypes which may not be optimal for SQL querying. For example a long textual field may map to a CLOB instead of a VARCHAR.\n\nTherefore, **it is highly recommended to manually load the table using the database console LOAD tool, as indicated in Week 2 Lab 1 Part II**. The only difference with that lab is that in Step 5 of the instructions you will need to click on create \"(+) New Table\" and specify the name of the table you want to create and then click \"Next\".\n\n##### Now open the Db2 console, open the LOAD tool, Select / Drag the .CSV file for the CHICAGO PUBLIC SCHOOLS dataset and load the dataset into a new table called **SCHOOLS**.\n\n<a href=\"https://cognitiveclass.ai/?utm_medium=Exinfluencer&utm_source=Exinfluencer&utm_content=000026UJ&utm_term=10006555&utm_id=NA-SkillsNetwork-Channel-SkillsNetworkCoursesIBMDeveloperSkillsNetworkDB0201ENSkillsNetwork20127838-2021-01-01\"><img src = \"https://ibm.box.com/shared/static/uc4xjh1uxcc78ks1i18v668simioz4es.jpg\"></a>\n"
        },
        {
            "metadata": {},
            "cell_type": "markdown",
            "source": "### Connect to the database\n\nLet us now load the ipython-sql  extension and establish a connection with the database\n"
        },
        {
            "metadata": {},
            "cell_type": "code",
            "source": "!pip install sqlalchemy==1.3.9\n!pip install ibm_db_sa\n!pip install ipython-sql",
            "execution_count": 20,
            "outputs": [
                {
                    "output_type": "stream",
                    "text": "Requirement already satisfied: sqlalchemy==1.3.9 in /opt/conda/envs/Python-3.8-main/lib/python3.8/site-packages (1.3.9)\nRequirement already satisfied: ibm_db_sa in /opt/conda/envs/Python-3.8-main/lib/python3.8/site-packages (0.3.7)\nRequirement already satisfied: ibm-db>=2.0.0 in /opt/conda/envs/Python-3.8-main/lib/python3.8/site-packages (from ibm_db_sa) (3.0.4)\nRequirement already satisfied: sqlalchemy>=0.7.3 in /opt/conda/envs/Python-3.8-main/lib/python3.8/site-packages (from ibm_db_sa) (1.3.9)\nRequirement already satisfied: ipython-sql in /opt/conda/envs/Python-3.8-main/lib/python3.8/site-packages (0.4.0)\nRequirement already satisfied: sqlalchemy>=0.6.7 in /opt/conda/envs/Python-3.8-main/lib/python3.8/site-packages (from ipython-sql) (1.3.9)\nRequirement already satisfied: prettytable<1 in /opt/conda/envs/Python-3.8-main/lib/python3.8/site-packages (from ipython-sql) (0.7.2)\nRequirement already satisfied: six in /opt/conda/envs/Python-3.8-main/lib/python3.8/site-packages (from ipython-sql) (1.15.0)\nRequirement already satisfied: sqlparse in /opt/conda/envs/Python-3.8-main/lib/python3.8/site-packages (from ipython-sql) (0.4.2)\nRequirement already satisfied: ipython-genutils>=0.1.0 in /opt/conda/envs/Python-3.8-main/lib/python3.8/site-packages (from ipython-sql) (0.2.0)\nRequirement already satisfied: ipython>=1.0 in /opt/conda/envs/Python-3.8-main/lib/python3.8/site-packages (from ipython-sql) (7.22.0)\nRequirement already satisfied: backcall in /opt/conda/envs/Python-3.8-main/lib/python3.8/site-packages (from ipython>=1.0->ipython-sql) (0.2.0)\nRequirement already satisfied: decorator in /opt/conda/envs/Python-3.8-main/lib/python3.8/site-packages (from ipython>=1.0->ipython-sql) (5.0.9)\nRequirement already satisfied: jedi>=0.16 in /opt/conda/envs/Python-3.8-main/lib/python3.8/site-packages (from ipython>=1.0->ipython-sql) (0.17.2)\nRequirement already satisfied: pygments in /opt/conda/envs/Python-3.8-main/lib/python3.8/site-packages (from ipython>=1.0->ipython-sql) (2.9.0)\nRequirement already satisfied: pexpect>4.3 in /opt/conda/envs/Python-3.8-main/lib/python3.8/site-packages (from ipython>=1.0->ipython-sql) (4.8.0)\nRequirement already satisfied: pickleshare in /opt/conda/envs/Python-3.8-main/lib/python3.8/site-packages (from ipython>=1.0->ipython-sql) (0.7.5)\nRequirement already satisfied: setuptools>=18.5 in /opt/conda/envs/Python-3.8-main/lib/python3.8/site-packages (from ipython>=1.0->ipython-sql) (52.0.0.post20210125)\nRequirement already satisfied: prompt-toolkit!=3.0.0,!=3.0.1,<3.1.0,>=2.0.0 in /opt/conda/envs/Python-3.8-main/lib/python3.8/site-packages (from ipython>=1.0->ipython-sql) (3.0.17)\nRequirement already satisfied: traitlets>=4.2 in /opt/conda/envs/Python-3.8-main/lib/python3.8/site-packages (from ipython>=1.0->ipython-sql) (5.0.5)\nRequirement already satisfied: parso<0.8.0,>=0.7.0 in /opt/conda/envs/Python-3.8-main/lib/python3.8/site-packages (from jedi>=0.16->ipython>=1.0->ipython-sql) (0.7.0)\nRequirement already satisfied: ptyprocess>=0.5 in /opt/conda/envs/Python-3.8-main/lib/python3.8/site-packages (from pexpect>4.3->ipython>=1.0->ipython-sql) (0.7.0)\nRequirement already satisfied: wcwidth in /opt/conda/envs/Python-3.8-main/lib/python3.8/site-packages (from prompt-toolkit!=3.0.0,!=3.0.1,<3.1.0,>=2.0.0->ipython>=1.0->ipython-sql) (0.2.5)\n",
                    "name": "stdout"
                }
            ]
        },
        {
            "metadata": {},
            "cell_type": "code",
            "source": "%load_ext sql",
            "execution_count": 21,
            "outputs": [
                {
                    "output_type": "stream",
                    "text": "The sql extension is already loaded. To reload it, use:\n  %reload_ext sql\n",
                    "name": "stdout"
                }
            ]
        },
        {
            "metadata": {},
            "cell_type": "code",
            "source": "import pandas\nSCHOOLS = pandas.read_csv('https://cf-courses-data.s3.us.cloud-object-storage.appdomain.cloud/IBMDeveloperSkillsNetwork-DB0201EN-SkillsNetwork/labs/FinalModule_Coursera_V5/data/ChicagoPublicSchools.csv?utm_medium=Exinfluencer&utm_source=Exinfluencer&utm_content=000026UJ&utm_term=10006555&utm_id=NA-SkillsNetwork-Channel-SkillsNetworkCoursesIBMDeveloperSkillsNetworkDB0201ENSkillsNetwork20127838-2021-01-01')",
            "execution_count": 22,
            "outputs": []
        },
        {
            "metadata": {},
            "cell_type": "code",
            "source": "SCHOOLS",
            "execution_count": 23,
            "outputs": [
                {
                    "output_type": "execute_result",
                    "execution_count": 23,
                    "data": {
                        "text/plain": "     School_ID                                     NAME_OF_SCHOOL  \\\n0       610038                  Abraham Lincoln Elementary School   \n1       610281  Adam Clayton Powell Paideia Community Academy ...   \n2       610185                Adlai E Stevenson Elementary School   \n3       609993                    Agustin Lara Elementary Academy   \n4       610513                      Air Force Academy High School   \n..         ...                                                ...   \n561     610172                William T Sherman Elementary School   \n562     609844                 William W Carter Elementary School   \n563     610088                Wolfgang A Mozart Elementary School   \n564     609977               Woodlawn Community Elementary School   \n565     610392                 World Language Academy High School   \n\n    Elementary, Middle, or High School         Street_Address     City State  \\\n0                                   ES        615 W Kemper Pl  Chicago    IL   \n1                                   ES  7511 S South Shore Dr  Chicago    IL   \n2                                   ES     8010 S Kostner Ave  Chicago    IL   \n3                                   ES     4619 S Wolcott Ave  Chicago    IL   \n4                                   HS        3630 S Wells St  Chicago    IL   \n..                                 ...                    ...      ...   ...   \n561                                 ES         1000 W 52nd St  Chicago    IL   \n562                                 ES    5740 S Michigan Ave  Chicago    IL   \n563                                 ES      2200 N Hamlin Ave  Chicago    IL   \n564                                 ES     6657 S Kimbark Ave  Chicago    IL   \n565                                 HS     3120 S Kostner Ave  Chicago    IL   \n\n     ZIP_Code    Phone_Number  \\\n0       60614  (773) 534-5720   \n1       60649  (773) 535-6650   \n2       60652  (773) 535-2280   \n3       60609  (773) 535-4389   \n4       60609  (773) 535-1590   \n..        ...             ...   \n561     60609  (773) 535-1757   \n562     60637  (773) 535-0860   \n563     60647  (773) 534-4160   \n564     60637  (773) 535-0801   \n565     60623  (773) 535-4334   \n\n                                                  Link  \\\n0    http://schoolreports.cps.edu/SchoolProgressRep...   \n1    http://schoolreports.cps.edu/SchoolProgressRep...   \n2    http://schoolreports.cps.edu/SchoolProgressRep...   \n3    http://schoolreports.cps.edu/SchoolProgressRep...   \n4    http://schoolreports.cps.edu/SchoolProgressRep...   \n..                                                 ...   \n561  http://schoolreports.cps.edu/SchoolProgressRep...   \n562  http://schoolreports.cps.edu/SchoolProgressRep...   \n563  http://schoolreports.cps.edu/SchoolProgressRep...   \n564  http://schoolreports.cps.edu/SchoolProgressRep...   \n565  http://schoolreports.cps.edu/SchoolProgressRep...   \n\n                        Network_Manager  ... Freshman_on_Track_Rate__  \\\n0          Fullerton Elementary Network  ...                      NDA   \n1             Skyway Elementary Network  ...                      NDA   \n2             Midway Elementary Network  ...                      NDA   \n3           Pershing Elementary Network  ...                      NDA   \n4    Southwest Side High School Network  ...                     91.8   \n..                                  ...  ...                      ...   \n561                        AUSL Schools  ...                      NDA   \n562     Burnham Park Elementary Network  ...                      NDA   \n563        Fullerton Elementary Network  ...                      NDA   \n564     Burnham Park Elementary Network  ...                      NDA   \n565       West Side High School Network  ...                       76   \n\n    X_COORDINATE Y_COORDINATE   Latitude  Longitude COMMUNITY_AREA_NUMBER  \\\n0    1171699.458  1915829.428  41.924497 -87.644522                     7   \n1    1196129.985  1856209.466  41.760324 -87.556736                    43   \n2    1148427.165  1851012.215  41.747111 -87.731702                    70   \n3    1164504.290  1873959.199  41.809757 -87.672145                    61   \n4    1175177.622  1880745.126  41.828146 -87.632794                    34   \n..           ...          ...        ...        ...                   ...   \n561  1170500.817  1870373.159  41.799788 -87.650255                    61   \n562  1178101.365  1866810.123  41.789841 -87.622490                    40   \n563  1150644.396  1914368.955  41.920927 -87.721925                    22   \n564  1185825.188  1860883.579  41.773400 -87.594356                    42   \n565  1147521.302  1883405.128  41.836020 -87.734195                    30   \n\n    COMMUNITY_AREA_NAME  Ward Police_District                     Location  \n0          LINCOLN PARK    43              18  (41.92449696, -87.64452163)  \n1           SOUTH SHORE     7               4  (41.76032435, -87.55673627)  \n2               ASHBURN    13               8  (41.74711093, -87.73170248)  \n3              NEW CITY    20               9    (41.8097569, -87.6721446)  \n4         ARMOUR SQUARE    11               9  (41.82814609, -87.63279369)  \n..                  ...   ...             ...                          ...  \n561            NEW CITY    16               9  (41.79978772, -87.65025483)  \n562     WASHINGTON PARK    20               2  (41.78984129, -87.62248974)  \n563        LOGAN SQUARE    35              25  (41.92092734, -87.72192541)  \n564            WOODLAWN     5               3  (41.77339962, -87.59435584)  \n565      SOUTH LAWNDALE    22              10  (41.83601953, -87.73419465)  \n\n[566 rows x 78 columns]",
                        "text/html": "<div>\n<style scoped>\n    .dataframe tbody tr th:only-of-type {\n        vertical-align: middle;\n    }\n\n    .dataframe tbody tr th {\n        vertical-align: top;\n    }\n\n    .dataframe thead th {\n        text-align: right;\n    }\n</style>\n<table border=\"1\" class=\"dataframe\">\n  <thead>\n    <tr style=\"text-align: right;\">\n      <th></th>\n      <th>School_ID</th>\n      <th>NAME_OF_SCHOOL</th>\n      <th>Elementary, Middle, or High School</th>\n      <th>Street_Address</th>\n      <th>City</th>\n      <th>State</th>\n      <th>ZIP_Code</th>\n      <th>Phone_Number</th>\n      <th>Link</th>\n      <th>Network_Manager</th>\n      <th>...</th>\n      <th>Freshman_on_Track_Rate__</th>\n      <th>X_COORDINATE</th>\n      <th>Y_COORDINATE</th>\n      <th>Latitude</th>\n      <th>Longitude</th>\n      <th>COMMUNITY_AREA_NUMBER</th>\n      <th>COMMUNITY_AREA_NAME</th>\n      <th>Ward</th>\n      <th>Police_District</th>\n      <th>Location</th>\n    </tr>\n  </thead>\n  <tbody>\n    <tr>\n      <th>0</th>\n      <td>610038</td>\n      <td>Abraham Lincoln Elementary School</td>\n      <td>ES</td>\n      <td>615 W Kemper Pl</td>\n      <td>Chicago</td>\n      <td>IL</td>\n      <td>60614</td>\n      <td>(773) 534-5720</td>\n      <td>http://schoolreports.cps.edu/SchoolProgressRep...</td>\n      <td>Fullerton Elementary Network</td>\n      <td>...</td>\n      <td>NDA</td>\n      <td>1171699.458</td>\n      <td>1915829.428</td>\n      <td>41.924497</td>\n      <td>-87.644522</td>\n      <td>7</td>\n      <td>LINCOLN PARK</td>\n      <td>43</td>\n      <td>18</td>\n      <td>(41.92449696, -87.64452163)</td>\n    </tr>\n    <tr>\n      <th>1</th>\n      <td>610281</td>\n      <td>Adam Clayton Powell Paideia Community Academy ...</td>\n      <td>ES</td>\n      <td>7511 S South Shore Dr</td>\n      <td>Chicago</td>\n      <td>IL</td>\n      <td>60649</td>\n      <td>(773) 535-6650</td>\n      <td>http://schoolreports.cps.edu/SchoolProgressRep...</td>\n      <td>Skyway Elementary Network</td>\n      <td>...</td>\n      <td>NDA</td>\n      <td>1196129.985</td>\n      <td>1856209.466</td>\n      <td>41.760324</td>\n      <td>-87.556736</td>\n      <td>43</td>\n      <td>SOUTH SHORE</td>\n      <td>7</td>\n      <td>4</td>\n      <td>(41.76032435, -87.55673627)</td>\n    </tr>\n    <tr>\n      <th>2</th>\n      <td>610185</td>\n      <td>Adlai E Stevenson Elementary School</td>\n      <td>ES</td>\n      <td>8010 S Kostner Ave</td>\n      <td>Chicago</td>\n      <td>IL</td>\n      <td>60652</td>\n      <td>(773) 535-2280</td>\n      <td>http://schoolreports.cps.edu/SchoolProgressRep...</td>\n      <td>Midway Elementary Network</td>\n      <td>...</td>\n      <td>NDA</td>\n      <td>1148427.165</td>\n      <td>1851012.215</td>\n      <td>41.747111</td>\n      <td>-87.731702</td>\n      <td>70</td>\n      <td>ASHBURN</td>\n      <td>13</td>\n      <td>8</td>\n      <td>(41.74711093, -87.73170248)</td>\n    </tr>\n    <tr>\n      <th>3</th>\n      <td>609993</td>\n      <td>Agustin Lara Elementary Academy</td>\n      <td>ES</td>\n      <td>4619 S Wolcott Ave</td>\n      <td>Chicago</td>\n      <td>IL</td>\n      <td>60609</td>\n      <td>(773) 535-4389</td>\n      <td>http://schoolreports.cps.edu/SchoolProgressRep...</td>\n      <td>Pershing Elementary Network</td>\n      <td>...</td>\n      <td>NDA</td>\n      <td>1164504.290</td>\n      <td>1873959.199</td>\n      <td>41.809757</td>\n      <td>-87.672145</td>\n      <td>61</td>\n      <td>NEW CITY</td>\n      <td>20</td>\n      <td>9</td>\n      <td>(41.8097569, -87.6721446)</td>\n    </tr>\n    <tr>\n      <th>4</th>\n      <td>610513</td>\n      <td>Air Force Academy High School</td>\n      <td>HS</td>\n      <td>3630 S Wells St</td>\n      <td>Chicago</td>\n      <td>IL</td>\n      <td>60609</td>\n      <td>(773) 535-1590</td>\n      <td>http://schoolreports.cps.edu/SchoolProgressRep...</td>\n      <td>Southwest Side High School Network</td>\n      <td>...</td>\n      <td>91.8</td>\n      <td>1175177.622</td>\n      <td>1880745.126</td>\n      <td>41.828146</td>\n      <td>-87.632794</td>\n      <td>34</td>\n      <td>ARMOUR SQUARE</td>\n      <td>11</td>\n      <td>9</td>\n      <td>(41.82814609, -87.63279369)</td>\n    </tr>\n    <tr>\n      <th>...</th>\n      <td>...</td>\n      <td>...</td>\n      <td>...</td>\n      <td>...</td>\n      <td>...</td>\n      <td>...</td>\n      <td>...</td>\n      <td>...</td>\n      <td>...</td>\n      <td>...</td>\n      <td>...</td>\n      <td>...</td>\n      <td>...</td>\n      <td>...</td>\n      <td>...</td>\n      <td>...</td>\n      <td>...</td>\n      <td>...</td>\n      <td>...</td>\n      <td>...</td>\n      <td>...</td>\n    </tr>\n    <tr>\n      <th>561</th>\n      <td>610172</td>\n      <td>William T Sherman Elementary School</td>\n      <td>ES</td>\n      <td>1000 W 52nd St</td>\n      <td>Chicago</td>\n      <td>IL</td>\n      <td>60609</td>\n      <td>(773) 535-1757</td>\n      <td>http://schoolreports.cps.edu/SchoolProgressRep...</td>\n      <td>AUSL Schools</td>\n      <td>...</td>\n      <td>NDA</td>\n      <td>1170500.817</td>\n      <td>1870373.159</td>\n      <td>41.799788</td>\n      <td>-87.650255</td>\n      <td>61</td>\n      <td>NEW CITY</td>\n      <td>16</td>\n      <td>9</td>\n      <td>(41.79978772, -87.65025483)</td>\n    </tr>\n    <tr>\n      <th>562</th>\n      <td>609844</td>\n      <td>William W Carter Elementary School</td>\n      <td>ES</td>\n      <td>5740 S Michigan Ave</td>\n      <td>Chicago</td>\n      <td>IL</td>\n      <td>60637</td>\n      <td>(773) 535-0860</td>\n      <td>http://schoolreports.cps.edu/SchoolProgressRep...</td>\n      <td>Burnham Park Elementary Network</td>\n      <td>...</td>\n      <td>NDA</td>\n      <td>1178101.365</td>\n      <td>1866810.123</td>\n      <td>41.789841</td>\n      <td>-87.622490</td>\n      <td>40</td>\n      <td>WASHINGTON PARK</td>\n      <td>20</td>\n      <td>2</td>\n      <td>(41.78984129, -87.62248974)</td>\n    </tr>\n    <tr>\n      <th>563</th>\n      <td>610088</td>\n      <td>Wolfgang A Mozart Elementary School</td>\n      <td>ES</td>\n      <td>2200 N Hamlin Ave</td>\n      <td>Chicago</td>\n      <td>IL</td>\n      <td>60647</td>\n      <td>(773) 534-4160</td>\n      <td>http://schoolreports.cps.edu/SchoolProgressRep...</td>\n      <td>Fullerton Elementary Network</td>\n      <td>...</td>\n      <td>NDA</td>\n      <td>1150644.396</td>\n      <td>1914368.955</td>\n      <td>41.920927</td>\n      <td>-87.721925</td>\n      <td>22</td>\n      <td>LOGAN SQUARE</td>\n      <td>35</td>\n      <td>25</td>\n      <td>(41.92092734, -87.72192541)</td>\n    </tr>\n    <tr>\n      <th>564</th>\n      <td>609977</td>\n      <td>Woodlawn Community Elementary School</td>\n      <td>ES</td>\n      <td>6657 S Kimbark Ave</td>\n      <td>Chicago</td>\n      <td>IL</td>\n      <td>60637</td>\n      <td>(773) 535-0801</td>\n      <td>http://schoolreports.cps.edu/SchoolProgressRep...</td>\n      <td>Burnham Park Elementary Network</td>\n      <td>...</td>\n      <td>NDA</td>\n      <td>1185825.188</td>\n      <td>1860883.579</td>\n      <td>41.773400</td>\n      <td>-87.594356</td>\n      <td>42</td>\n      <td>WOODLAWN</td>\n      <td>5</td>\n      <td>3</td>\n      <td>(41.77339962, -87.59435584)</td>\n    </tr>\n    <tr>\n      <th>565</th>\n      <td>610392</td>\n      <td>World Language Academy High School</td>\n      <td>HS</td>\n      <td>3120 S Kostner Ave</td>\n      <td>Chicago</td>\n      <td>IL</td>\n      <td>60623</td>\n      <td>(773) 535-4334</td>\n      <td>http://schoolreports.cps.edu/SchoolProgressRep...</td>\n      <td>West Side High School Network</td>\n      <td>...</td>\n      <td>76</td>\n      <td>1147521.302</td>\n      <td>1883405.128</td>\n      <td>41.836020</td>\n      <td>-87.734195</td>\n      <td>30</td>\n      <td>SOUTH LAWNDALE</td>\n      <td>22</td>\n      <td>10</td>\n      <td>(41.83601953, -87.73419465)</td>\n    </tr>\n  </tbody>\n</table>\n<p>566 rows \u00d7 78 columns</p>\n</div>"
                    },
                    "metadata": {}
                }
            ]
        },
        {
            "metadata": {},
            "cell_type": "code",
            "source": "# Enter the connection string for your Db2 on Cloud database instance below\n# %sql ibm_db_sa://my-username:my-password@my-hostname:my-port/my-db-name?security=SSL\n%sql ibm_db_sa://djp87127:TekwWGJ58cCrxjfV@fbd88901-ebdb-4a4f-a32e-9822b9fb237b.c1ogj3sd0tgtu0lqde00.databases.appdomain.cloud:32731/BLUDB?security=SSL",
            "execution_count": 24,
            "outputs": []
        },
        {
            "metadata": {},
            "cell_type": "code",
            "source": "%sql --persist SCHOOLS",
            "execution_count": 26,
            "outputs": [
                {
                    "output_type": "stream",
                    "text": " * ibm_db_sa://djp87127:***@fbd88901-ebdb-4a4f-a32e-9822b9fb237b.c1ogj3sd0tgtu0lqde00.databases.appdomain.cloud:32731/BLUDB\n",
                    "name": "stdout"
                },
                {
                    "output_type": "execute_result",
                    "execution_count": 26,
                    "data": {
                        "text/plain": "'Persisted schools'"
                    },
                    "metadata": {}
                }
            ]
        },
        {
            "metadata": {},
            "cell_type": "markdown",
            "source": "### Query the database system catalog to retrieve table metadata\n\n##### You can verify that the table creation was successful by retrieving the list of all tables in your schema and checking whether the SCHOOLS table was created\n"
        },
        {
            "metadata": {},
            "cell_type": "code",
            "source": "# type in your query to retrieve list of all tables in the database for your db2 schema (username)\n%sql select TABSCHEMA, TABNAME, CREATE_TIME from SYSCAT.TABLES where TABSCHEMA='djp87127'",
            "execution_count": 28,
            "outputs": [
                {
                    "output_type": "stream",
                    "text": " * ibm_db_sa://djp87127:***@fbd88901-ebdb-4a4f-a32e-9822b9fb237b.c1ogj3sd0tgtu0lqde00.databases.appdomain.cloud:32731/BLUDB\nDone.\n",
                    "name": "stdout"
                },
                {
                    "output_type": "execute_result",
                    "execution_count": 28,
                    "data": {
                        "text/plain": "[]",
                        "text/html": "<table>\n    <tr>\n        <th>tabschema</th>\n        <th>tabname</th>\n        <th>create_time</th>\n    </tr>\n</table>"
                    },
                    "metadata": {}
                }
            ]
        },
        {
            "metadata": {},
            "cell_type": "markdown",
            "source": "Double-click **here** for a hint\n\n<!--\nIn Db2 the system catalog table called SYSCAT.TABLES contains the table metadata\n-->\n"
        },
        {
            "metadata": {},
            "cell_type": "markdown",
            "source": "Double-click **here** for the solution.\n\n<!-- Solution:\n\n%sql select TABSCHEMA, TABNAME, CREATE_TIME from SYSCAT.TABLES where TABSCHEMA='YOUR-DB2-USERNAME'\n\nor, you can retrieve list of all tables where the schema name is not one of the system created ones:\n\n%sql select TABSCHEMA, TABNAME, CREATE_TIME from SYSCAT.TABLES \\\n      where TABSCHEMA not in ('SYSIBM', 'SYSCAT', 'SYSSTAT', 'SYSIBMADM', 'SYSTOOLS', 'SYSPUBLIC')\n      \nor, just query for a specifc table that you want to verify exists in the database\n%sql select * from SYSCAT.TABLES where TABNAME = 'SCHOOLS'\n\n-->\n"
        },
        {
            "metadata": {},
            "cell_type": "markdown",
            "source": "### Query the database system catalog to retrieve column metadata\n\n##### The SCHOOLS table contains a large number of columns. How many columns does this table have?\n"
        },
        {
            "metadata": {},
            "cell_type": "code",
            "source": "# type in your query to retrieve the number of columns in the SCHOOLS table\n%sql SELECT COUNT(*) FROM SYSCAT.COLUMNS WHERE TABNAME = 'SCHOOLS'",
            "execution_count": 29,
            "outputs": [
                {
                    "output_type": "stream",
                    "text": " * ibm_db_sa://djp87127:***@fbd88901-ebdb-4a4f-a32e-9822b9fb237b.c1ogj3sd0tgtu0lqde00.databases.appdomain.cloud:32731/BLUDB\nDone.\n",
                    "name": "stdout"
                },
                {
                    "output_type": "execute_result",
                    "execution_count": 29,
                    "data": {
                        "text/plain": "[(79,)]",
                        "text/html": "<table>\n    <tr>\n        <th>1</th>\n    </tr>\n    <tr>\n        <td>79</td>\n    </tr>\n</table>"
                    },
                    "metadata": {}
                }
            ]
        },
        {
            "metadata": {},
            "cell_type": "markdown",
            "source": "Double-click **here** for a hint\n\n<!--\nIn Db2 the system catalog table called SYSCAT.COLUMNS contains the column metadata\n-->\n"
        },
        {
            "metadata": {},
            "cell_type": "markdown",
            "source": "Double-click **here** for the solution.\n\n<!-- Solution:\n\n%sql select count(*) from SYSCAT.COLUMNS where TABNAME = 'SCHOOLS'\n\n-->\n"
        },
        {
            "metadata": {},
            "cell_type": "markdown",
            "source": "Now retrieve the the list of columns in SCHOOLS table and their column type (datatype) and length.\n"
        },
        {
            "metadata": {},
            "cell_type": "code",
            "source": "# type in your query to retrieve all column names in the SCHOOLS table along with their datatypes and length\n%sql select COLNAME, TYPENAME, LENGTH from SYSCAT.COLUMNS where TABNAME = 'SCHOOLS'",
            "execution_count": 30,
            "outputs": [
                {
                    "output_type": "stream",
                    "text": " * ibm_db_sa://djp87127:***@fbd88901-ebdb-4a4f-a32e-9822b9fb237b.c1ogj3sd0tgtu0lqde00.databases.appdomain.cloud:32731/BLUDB\nDone.\n",
                    "name": "stdout"
                },
                {
                    "output_type": "execute_result",
                    "execution_count": 30,
                    "data": {
                        "text/plain": "[('index', 'BIGINT', 8),\n ('School_ID', 'BIGINT', 8),\n ('NAME_OF_SCHOOL', 'CLOB', 1048576),\n ('Elementary, Middle, or High School', 'CLOB', 1048576),\n ('Street_Address', 'CLOB', 1048576),\n ('City', 'CLOB', 1048576),\n ('State', 'CLOB', 1048576),\n ('ZIP_Code', 'BIGINT', 8),\n ('Phone_Number', 'CLOB', 1048576),\n ('Link', 'CLOB', 1048576),\n ('Network_Manager', 'CLOB', 1048576),\n ('Collaborative_Name', 'CLOB', 1048576),\n ('Adequate_Yearly_Progress_Made_', 'CLOB', 1048576),\n ('Track_Schedule', 'CLOB', 1048576),\n ('CPS_Performance_Policy_Status', 'CLOB', 1048576),\n ('CPS_Performance_Policy_Level', 'CLOB', 1048576),\n ('HEALTHY_SCHOOL_CERTIFIED', 'CLOB', 1048576),\n ('Safety_Icon', 'CLOB', 1048576),\n ('SAFETY_SCORE', 'DOUBLE', 8),\n ('Family_Involvement_Icon', 'CLOB', 1048576),\n ('Family_Involvement_Score', 'CLOB', 1048576),\n ('Environment_Icon', 'CLOB', 1048576),\n ('Environment_Score', 'DOUBLE', 8),\n ('Instruction_Icon', 'CLOB', 1048576),\n ('Instruction_Score', 'DOUBLE', 8),\n ('Leaders_Icon', 'CLOB', 1048576),\n ('Leaders_Score', 'CLOB', 1048576),\n ('Teachers_Icon', 'CLOB', 1048576),\n ('Teachers_Score', 'CLOB', 1048576),\n ('Parent_Engagement_Icon', 'CLOB', 1048576),\n ('Parent_Engagement_Score', 'CLOB', 1048576),\n ('Parent_Environment_Icon', 'CLOB', 1048576),\n ('Parent_Environment_Score', 'CLOB', 1048576),\n ('AVERAGE_STUDENT_ATTENDANCE', 'CLOB', 1048576),\n ('Rate_of_Misconducts__per_100_students_', 'DOUBLE', 8),\n ('Average_Teacher_Attendance', 'CLOB', 1048576),\n ('Individualized_Education_Program_Compliance_Rate', 'CLOB', 1048576),\n ('Pk_2_Literacy__', 'CLOB', 1048576),\n ('Pk_2_Math__', 'CLOB', 1048576),\n ('Gr3_5_Grade_Level_Math__', 'CLOB', 1048576),\n ('Gr3_5_Grade_Level_Read__', 'CLOB', 1048576),\n ('Gr3_5_Keep_Pace_Read__', 'CLOB', 1048576),\n ('Gr3_5_Keep_Pace_Math__', 'CLOB', 1048576),\n ('Gr6_8_Grade_Level_Math__', 'CLOB', 1048576),\n ('Gr6_8_Grade_Level_Read__', 'CLOB', 1048576),\n ('Gr6_8_Keep_Pace_Math_', 'CLOB', 1048576),\n ('Gr6_8_Keep_Pace_Read__', 'CLOB', 1048576),\n ('Gr_8_Explore_Math__', 'CLOB', 1048576),\n ('Gr_8_Explore_Read__', 'CLOB', 1048576),\n ('ISAT_Exceeding_Math__', 'DOUBLE', 8),\n ('ISAT_Exceeding_Reading__', 'DOUBLE', 8),\n ('ISAT_Value_Add_Math', 'DOUBLE', 8),\n ('ISAT_Value_Add_Read', 'DOUBLE', 8),\n ('ISAT_Value_Add_Color_Math', 'CLOB', 1048576),\n ('ISAT_Value_Add_Color_Read', 'CLOB', 1048576),\n ('Students_Taking__Algebra__', 'CLOB', 1048576),\n ('Students_Passing__Algebra__', 'CLOB', 1048576),\n ('9th Grade EXPLORE (2009)', 'CLOB', 1048576),\n ('9th Grade EXPLORE (2010)', 'CLOB', 1048576),\n ('10th Grade PLAN (2009)', 'CLOB', 1048576),\n ('10th Grade PLAN (2010)', 'CLOB', 1048576),\n ('Net_Change_EXPLORE_and_PLAN', 'CLOB', 1048576),\n ('11th Grade Average ACT (2011)', 'CLOB', 1048576),\n ('Net_Change_PLAN_and_ACT', 'CLOB', 1048576),\n ('College_Eligibility__', 'CLOB', 1048576),\n ('Graduation_Rate__', 'CLOB', 1048576),\n ('College_Enrollment_Rate__', 'CLOB', 1048576),\n ('COLLEGE_ENROLLMENT', 'BIGINT', 8),\n ('General_Services_Route', 'BIGINT', 8),\n ('Freshman_on_Track_Rate__', 'CLOB', 1048576),\n ('X_COORDINATE', 'DOUBLE', 8),\n ('Y_COORDINATE', 'DOUBLE', 8),\n ('Latitude', 'DOUBLE', 8),\n ('Longitude', 'DOUBLE', 8),\n ('COMMUNITY_AREA_NUMBER', 'BIGINT', 8),\n ('COMMUNITY_AREA_NAME', 'CLOB', 1048576),\n ('Ward', 'BIGINT', 8),\n ('Police_District', 'BIGINT', 8),\n ('Location', 'CLOB', 1048576)]",
                        "text/html": "<table>\n    <tr>\n        <th>colname</th>\n        <th>typename</th>\n        <th>length</th>\n    </tr>\n    <tr>\n        <td>index</td>\n        <td>BIGINT</td>\n        <td>8</td>\n    </tr>\n    <tr>\n        <td>School_ID</td>\n        <td>BIGINT</td>\n        <td>8</td>\n    </tr>\n    <tr>\n        <td>NAME_OF_SCHOOL</td>\n        <td>CLOB</td>\n        <td>1048576</td>\n    </tr>\n    <tr>\n        <td>Elementary, Middle, or High School</td>\n        <td>CLOB</td>\n        <td>1048576</td>\n    </tr>\n    <tr>\n        <td>Street_Address</td>\n        <td>CLOB</td>\n        <td>1048576</td>\n    </tr>\n    <tr>\n        <td>City</td>\n        <td>CLOB</td>\n        <td>1048576</td>\n    </tr>\n    <tr>\n        <td>State</td>\n        <td>CLOB</td>\n        <td>1048576</td>\n    </tr>\n    <tr>\n        <td>ZIP_Code</td>\n        <td>BIGINT</td>\n        <td>8</td>\n    </tr>\n    <tr>\n        <td>Phone_Number</td>\n        <td>CLOB</td>\n        <td>1048576</td>\n    </tr>\n    <tr>\n        <td>Link</td>\n        <td>CLOB</td>\n        <td>1048576</td>\n    </tr>\n    <tr>\n        <td>Network_Manager</td>\n        <td>CLOB</td>\n        <td>1048576</td>\n    </tr>\n    <tr>\n        <td>Collaborative_Name</td>\n        <td>CLOB</td>\n        <td>1048576</td>\n    </tr>\n    <tr>\n        <td>Adequate_Yearly_Progress_Made_</td>\n        <td>CLOB</td>\n        <td>1048576</td>\n    </tr>\n    <tr>\n        <td>Track_Schedule</td>\n        <td>CLOB</td>\n        <td>1048576</td>\n    </tr>\n    <tr>\n        <td>CPS_Performance_Policy_Status</td>\n        <td>CLOB</td>\n        <td>1048576</td>\n    </tr>\n    <tr>\n        <td>CPS_Performance_Policy_Level</td>\n        <td>CLOB</td>\n        <td>1048576</td>\n    </tr>\n    <tr>\n        <td>HEALTHY_SCHOOL_CERTIFIED</td>\n        <td>CLOB</td>\n        <td>1048576</td>\n    </tr>\n    <tr>\n        <td>Safety_Icon</td>\n        <td>CLOB</td>\n        <td>1048576</td>\n    </tr>\n    <tr>\n        <td>SAFETY_SCORE</td>\n        <td>DOUBLE</td>\n        <td>8</td>\n    </tr>\n    <tr>\n        <td>Family_Involvement_Icon</td>\n        <td>CLOB</td>\n        <td>1048576</td>\n    </tr>\n    <tr>\n        <td>Family_Involvement_Score</td>\n        <td>CLOB</td>\n        <td>1048576</td>\n    </tr>\n    <tr>\n        <td>Environment_Icon</td>\n        <td>CLOB</td>\n        <td>1048576</td>\n    </tr>\n    <tr>\n        <td>Environment_Score</td>\n        <td>DOUBLE</td>\n        <td>8</td>\n    </tr>\n    <tr>\n        <td>Instruction_Icon</td>\n        <td>CLOB</td>\n        <td>1048576</td>\n    </tr>\n    <tr>\n        <td>Instruction_Score</td>\n        <td>DOUBLE</td>\n        <td>8</td>\n    </tr>\n    <tr>\n        <td>Leaders_Icon</td>\n        <td>CLOB</td>\n        <td>1048576</td>\n    </tr>\n    <tr>\n        <td>Leaders_Score</td>\n        <td>CLOB</td>\n        <td>1048576</td>\n    </tr>\n    <tr>\n        <td>Teachers_Icon</td>\n        <td>CLOB</td>\n        <td>1048576</td>\n    </tr>\n    <tr>\n        <td>Teachers_Score</td>\n        <td>CLOB</td>\n        <td>1048576</td>\n    </tr>\n    <tr>\n        <td>Parent_Engagement_Icon</td>\n        <td>CLOB</td>\n        <td>1048576</td>\n    </tr>\n    <tr>\n        <td>Parent_Engagement_Score</td>\n        <td>CLOB</td>\n        <td>1048576</td>\n    </tr>\n    <tr>\n        <td>Parent_Environment_Icon</td>\n        <td>CLOB</td>\n        <td>1048576</td>\n    </tr>\n    <tr>\n        <td>Parent_Environment_Score</td>\n        <td>CLOB</td>\n        <td>1048576</td>\n    </tr>\n    <tr>\n        <td>AVERAGE_STUDENT_ATTENDANCE</td>\n        <td>CLOB</td>\n        <td>1048576</td>\n    </tr>\n    <tr>\n        <td>Rate_of_Misconducts__per_100_students_</td>\n        <td>DOUBLE</td>\n        <td>8</td>\n    </tr>\n    <tr>\n        <td>Average_Teacher_Attendance</td>\n        <td>CLOB</td>\n        <td>1048576</td>\n    </tr>\n    <tr>\n        <td>Individualized_Education_Program_Compliance_Rate</td>\n        <td>CLOB</td>\n        <td>1048576</td>\n    </tr>\n    <tr>\n        <td>Pk_2_Literacy__</td>\n        <td>CLOB</td>\n        <td>1048576</td>\n    </tr>\n    <tr>\n        <td>Pk_2_Math__</td>\n        <td>CLOB</td>\n        <td>1048576</td>\n    </tr>\n    <tr>\n        <td>Gr3_5_Grade_Level_Math__</td>\n        <td>CLOB</td>\n        <td>1048576</td>\n    </tr>\n    <tr>\n        <td>Gr3_5_Grade_Level_Read__</td>\n        <td>CLOB</td>\n        <td>1048576</td>\n    </tr>\n    <tr>\n        <td>Gr3_5_Keep_Pace_Read__</td>\n        <td>CLOB</td>\n        <td>1048576</td>\n    </tr>\n    <tr>\n        <td>Gr3_5_Keep_Pace_Math__</td>\n        <td>CLOB</td>\n        <td>1048576</td>\n    </tr>\n    <tr>\n        <td>Gr6_8_Grade_Level_Math__</td>\n        <td>CLOB</td>\n        <td>1048576</td>\n    </tr>\n    <tr>\n        <td>Gr6_8_Grade_Level_Read__</td>\n        <td>CLOB</td>\n        <td>1048576</td>\n    </tr>\n    <tr>\n        <td>Gr6_8_Keep_Pace_Math_</td>\n        <td>CLOB</td>\n        <td>1048576</td>\n    </tr>\n    <tr>\n        <td>Gr6_8_Keep_Pace_Read__</td>\n        <td>CLOB</td>\n        <td>1048576</td>\n    </tr>\n    <tr>\n        <td>Gr_8_Explore_Math__</td>\n        <td>CLOB</td>\n        <td>1048576</td>\n    </tr>\n    <tr>\n        <td>Gr_8_Explore_Read__</td>\n        <td>CLOB</td>\n        <td>1048576</td>\n    </tr>\n    <tr>\n        <td>ISAT_Exceeding_Math__</td>\n        <td>DOUBLE</td>\n        <td>8</td>\n    </tr>\n    <tr>\n        <td>ISAT_Exceeding_Reading__</td>\n        <td>DOUBLE</td>\n        <td>8</td>\n    </tr>\n    <tr>\n        <td>ISAT_Value_Add_Math</td>\n        <td>DOUBLE</td>\n        <td>8</td>\n    </tr>\n    <tr>\n        <td>ISAT_Value_Add_Read</td>\n        <td>DOUBLE</td>\n        <td>8</td>\n    </tr>\n    <tr>\n        <td>ISAT_Value_Add_Color_Math</td>\n        <td>CLOB</td>\n        <td>1048576</td>\n    </tr>\n    <tr>\n        <td>ISAT_Value_Add_Color_Read</td>\n        <td>CLOB</td>\n        <td>1048576</td>\n    </tr>\n    <tr>\n        <td>Students_Taking__Algebra__</td>\n        <td>CLOB</td>\n        <td>1048576</td>\n    </tr>\n    <tr>\n        <td>Students_Passing__Algebra__</td>\n        <td>CLOB</td>\n        <td>1048576</td>\n    </tr>\n    <tr>\n        <td>9th Grade EXPLORE (2009)</td>\n        <td>CLOB</td>\n        <td>1048576</td>\n    </tr>\n    <tr>\n        <td>9th Grade EXPLORE (2010)</td>\n        <td>CLOB</td>\n        <td>1048576</td>\n    </tr>\n    <tr>\n        <td>10th Grade PLAN (2009)</td>\n        <td>CLOB</td>\n        <td>1048576</td>\n    </tr>\n    <tr>\n        <td>10th Grade PLAN (2010)</td>\n        <td>CLOB</td>\n        <td>1048576</td>\n    </tr>\n    <tr>\n        <td>Net_Change_EXPLORE_and_PLAN</td>\n        <td>CLOB</td>\n        <td>1048576</td>\n    </tr>\n    <tr>\n        <td>11th Grade Average ACT (2011)</td>\n        <td>CLOB</td>\n        <td>1048576</td>\n    </tr>\n    <tr>\n        <td>Net_Change_PLAN_and_ACT</td>\n        <td>CLOB</td>\n        <td>1048576</td>\n    </tr>\n    <tr>\n        <td>College_Eligibility__</td>\n        <td>CLOB</td>\n        <td>1048576</td>\n    </tr>\n    <tr>\n        <td>Graduation_Rate__</td>\n        <td>CLOB</td>\n        <td>1048576</td>\n    </tr>\n    <tr>\n        <td>College_Enrollment_Rate__</td>\n        <td>CLOB</td>\n        <td>1048576</td>\n    </tr>\n    <tr>\n        <td>COLLEGE_ENROLLMENT</td>\n        <td>BIGINT</td>\n        <td>8</td>\n    </tr>\n    <tr>\n        <td>General_Services_Route</td>\n        <td>BIGINT</td>\n        <td>8</td>\n    </tr>\n    <tr>\n        <td>Freshman_on_Track_Rate__</td>\n        <td>CLOB</td>\n        <td>1048576</td>\n    </tr>\n    <tr>\n        <td>X_COORDINATE</td>\n        <td>DOUBLE</td>\n        <td>8</td>\n    </tr>\n    <tr>\n        <td>Y_COORDINATE</td>\n        <td>DOUBLE</td>\n        <td>8</td>\n    </tr>\n    <tr>\n        <td>Latitude</td>\n        <td>DOUBLE</td>\n        <td>8</td>\n    </tr>\n    <tr>\n        <td>Longitude</td>\n        <td>DOUBLE</td>\n        <td>8</td>\n    </tr>\n    <tr>\n        <td>COMMUNITY_AREA_NUMBER</td>\n        <td>BIGINT</td>\n        <td>8</td>\n    </tr>\n    <tr>\n        <td>COMMUNITY_AREA_NAME</td>\n        <td>CLOB</td>\n        <td>1048576</td>\n    </tr>\n    <tr>\n        <td>Ward</td>\n        <td>BIGINT</td>\n        <td>8</td>\n    </tr>\n    <tr>\n        <td>Police_District</td>\n        <td>BIGINT</td>\n        <td>8</td>\n    </tr>\n    <tr>\n        <td>Location</td>\n        <td>CLOB</td>\n        <td>1048576</td>\n    </tr>\n</table>"
                    },
                    "metadata": {}
                }
            ]
        },
        {
            "metadata": {},
            "cell_type": "markdown",
            "source": "Double-click **here** for the solution.\n\n<!-- Solution:\n\n%sql select COLNAME, TYPENAME, LENGTH from SYSCAT.COLUMNS where TABNAME = 'SCHOOLS'\n\nor\n\n%sql select distinct(NAME), COLTYPE, LENGTH from SYSIBM.SYSCOLUMNS where TBNAME = 'SCHOOLS'\n\n-->\n"
        },
        {
            "metadata": {},
            "cell_type": "markdown",
            "source": "### Questions\n\n1.  Is the column name for the \"SCHOOL ID\" attribute in upper or mixed case?\n2.  What is the name of \"Community Area Name\" column in your table? Does it have spaces?\n3.  Are there any columns in whose names the spaces and paranthesis (round brackets) have been replaced by the underscore character \"\\_\"?\n"
        },
        {
            "metadata": {},
            "cell_type": "markdown",
            "source": "## Problems\n\n### Problem 1\n\n##### How many Elementary Schools are in the dataset?\n"
        },
        {
            "metadata": {},
            "cell_type": "code",
            "source": "%sql select count(*) from SCHOOLS where school_type = 'ES'",
            "execution_count": null,
            "outputs": []
        },
        {
            "metadata": {},
            "cell_type": "markdown",
            "source": "Double-click **here** for a hint\n\n<!--\nWhich column specifies the school type e.g. 'ES', 'MS', 'HS'? (\"Elementary School, Middle School, High School\")\n-->\n"
        },
        {
            "metadata": {},
            "cell_type": "markdown",
            "source": "Double-click **here** for another hint\n\n<!--\nDoes the column name have mixed case, spaces or other special characters?\nIf so, ensure you use double quotes around the \"Name of the Column\"\n-->\n"
        },
        {
            "metadata": {},
            "cell_type": "markdown",
            "source": "Double-click **here** for the solution.\n\n<!-- Solution:\n\n%sql select count(*) from SCHOOLS where school_type = 'ES'\n\nCorrect answer: 462\n\n-->\n"
        },
        {
            "metadata": {},
            "cell_type": "markdown",
            "source": "### Problem 2\n\n##### What is the highest Safety Score?\n"
        },
        {
            "metadata": {},
            "cell_type": "code",
            "source": "%sql select max(SAFETY_SCORE) from SCHOOLS;",
            "execution_count": 34,
            "outputs": [
                {
                    "output_type": "stream",
                    "text": " * ibm_db_sa://djp87127:***@fbd88901-ebdb-4a4f-a32e-9822b9fb237b.c1ogj3sd0tgtu0lqde00.databases.appdomain.cloud:32731/BLUDB\nDone.\n",
                    "name": "stdout"
                },
                {
                    "output_type": "execute_result",
                    "execution_count": 34,
                    "data": {
                        "text/plain": "[(99.0,)]",
                        "text/html": "<table>\n    <tr>\n        <th>1</th>\n    </tr>\n    <tr>\n        <td>99.0</td>\n    </tr>\n</table>"
                    },
                    "metadata": {}
                }
            ]
        },
        {
            "metadata": {},
            "cell_type": "markdown",
            "source": "Double-click **here** for a hint\n\n<!--\nUse the MAX() function\n-->\n"
        },
        {
            "metadata": {},
            "cell_type": "markdown",
            "source": "Double-click **here** for the solution.\n\n<!-- Hint:\n\n%sql select MAX(Safety_Score) AS MAX_SAFETY_SCORE from SCHOOLS\n\nCorrect answer: 99\n-->\n"
        },
        {
            "metadata": {},
            "cell_type": "markdown",
            "source": "### Problem 3\n\n##### Which schools have highest Safety Score?\n"
        },
        {
            "metadata": {},
            "cell_type": "code",
            "source": "%sql select NAME_OF_SCHOOL from SCHOOLS where SAFETY_SCORE=99.0;",
            "execution_count": 35,
            "outputs": [
                {
                    "output_type": "stream",
                    "text": " * ibm_db_sa://djp87127:***@fbd88901-ebdb-4a4f-a32e-9822b9fb237b.c1ogj3sd0tgtu0lqde00.databases.appdomain.cloud:32731/BLUDB\nDone.\n",
                    "name": "stdout"
                },
                {
                    "output_type": "execute_result",
                    "execution_count": 35,
                    "data": {
                        "text/plain": "[('Abraham Lincoln Elementary School',),\n ('Alexander Graham Bell Elementary School',),\n ('Annie Keller Elementary Gifted Magnet School',),\n ('Augustus H Burley Elementary School',),\n ('Edgar Allan Poe Elementary Classical School',),\n ('Edgebrook Elementary School',),\n ('Ellen Mitchell Elementary School',),\n ('James E McDade Elementary Classical School',),\n ('James G Blaine Elementary School',),\n ('LaSalle Elementary Language Academy',),\n ('Mary E Courtenay Elementary Language Arts Center',),\n ('Northside College Preparatory High School',),\n ('Northside Learning Center High School',),\n ('Norwood Park Elementary School',),\n ('Oriole Park Elementary School',),\n ('Sauganash Elementary School',),\n ('Stephen Decatur Classical Elementary School',),\n ('Talman Elementary School',),\n ('Wildwood Elementary School',)]",
                        "text/html": "<table>\n    <tr>\n        <th>name_of_school</th>\n    </tr>\n    <tr>\n        <td>Abraham Lincoln Elementary School</td>\n    </tr>\n    <tr>\n        <td>Alexander Graham Bell Elementary School</td>\n    </tr>\n    <tr>\n        <td>Annie Keller Elementary Gifted Magnet School</td>\n    </tr>\n    <tr>\n        <td>Augustus H Burley Elementary School</td>\n    </tr>\n    <tr>\n        <td>Edgar Allan Poe Elementary Classical School</td>\n    </tr>\n    <tr>\n        <td>Edgebrook Elementary School</td>\n    </tr>\n    <tr>\n        <td>Ellen Mitchell Elementary School</td>\n    </tr>\n    <tr>\n        <td>James E McDade Elementary Classical School</td>\n    </tr>\n    <tr>\n        <td>James G Blaine Elementary School</td>\n    </tr>\n    <tr>\n        <td>LaSalle Elementary Language Academy</td>\n    </tr>\n    <tr>\n        <td>Mary E Courtenay Elementary Language Arts Center</td>\n    </tr>\n    <tr>\n        <td>Northside College Preparatory High School</td>\n    </tr>\n    <tr>\n        <td>Northside Learning Center High School</td>\n    </tr>\n    <tr>\n        <td>Norwood Park Elementary School</td>\n    </tr>\n    <tr>\n        <td>Oriole Park Elementary School</td>\n    </tr>\n    <tr>\n        <td>Sauganash Elementary School</td>\n    </tr>\n    <tr>\n        <td>Stephen Decatur Classical Elementary School</td>\n    </tr>\n    <tr>\n        <td>Talman Elementary School</td>\n    </tr>\n    <tr>\n        <td>Wildwood Elementary School</td>\n    </tr>\n</table>"
                    },
                    "metadata": {}
                }
            ]
        },
        {
            "metadata": {},
            "cell_type": "markdown",
            "source": "Double-click **here** for the solution.\n\n<!-- Solution:\nIn the previous problem we found out that the highest Safety Score is 99, so we can use that as an input in the where clause:\n\n%sql select Name_of_School, Safety_Score from SCHOOLS where Safety_Score = 99\n\nor, a better way:\n\n%sql select Name_of_School, Safety_Score from SCHOOLS where \\\n  Safety_Score= (select MAX(Safety_Score) from SCHOOLS)\n\n\nCorrect answer: several schools with with Safety Score of 99.\n-->\n"
        },
        {
            "metadata": {},
            "cell_type": "markdown",
            "source": "### Problem 4\n\n##### What are the top 10 schools with the highest \"Average Student Attendance\"?\n"
        },
        {
            "metadata": {},
            "cell_type": "code",
            "source": "%sql select NAME_OF_SCHOOL, AVERAGE_STUDENT_ATTENDANCE from SCHOOLS LIMIT 10",
            "execution_count": 44,
            "outputs": [
                {
                    "output_type": "stream",
                    "text": " * ibm_db_sa://djp87127:***@fbd88901-ebdb-4a4f-a32e-9822b9fb237b.c1ogj3sd0tgtu0lqde00.databases.appdomain.cloud:32731/BLUDB\nDone.\n",
                    "name": "stdout"
                },
                {
                    "output_type": "execute_result",
                    "execution_count": 44,
                    "data": {
                        "text/plain": "[('Abraham Lincoln Elementary School', '96.00%'),\n ('Adam Clayton Powell Paideia Community Academy Elementary School', '95.60%'),\n ('Adlai E Stevenson Elementary School', '95.70%'),\n ('Agustin Lara Elementary Academy', '95.50%'),\n ('Air Force Academy High School', '93.30%'),\n ('Albany Park Multicultural Academy', '97.00%'),\n ('Albert G Lane Technical High School', '96.30%'),\n ('Albert R Sabin Elementary Magnet School', '94.70%'),\n ('Alcott High School for the Humanities', '92.70%'),\n ('Alessandro Volta Elementary School', '96.40%')]",
                        "text/html": "<table>\n    <tr>\n        <th>name_of_school</th>\n        <th>average_student_attendance</th>\n    </tr>\n    <tr>\n        <td>Abraham Lincoln Elementary School</td>\n        <td>96.00%</td>\n    </tr>\n    <tr>\n        <td>Adam Clayton Powell Paideia Community Academy Elementary School</td>\n        <td>95.60%</td>\n    </tr>\n    <tr>\n        <td>Adlai E Stevenson Elementary School</td>\n        <td>95.70%</td>\n    </tr>\n    <tr>\n        <td>Agustin Lara Elementary Academy</td>\n        <td>95.50%</td>\n    </tr>\n    <tr>\n        <td>Air Force Academy High School</td>\n        <td>93.30%</td>\n    </tr>\n    <tr>\n        <td>Albany Park Multicultural Academy</td>\n        <td>97.00%</td>\n    </tr>\n    <tr>\n        <td>Albert G Lane Technical High School</td>\n        <td>96.30%</td>\n    </tr>\n    <tr>\n        <td>Albert R Sabin Elementary Magnet School</td>\n        <td>94.70%</td>\n    </tr>\n    <tr>\n        <td>Alcott High School for the Humanities</td>\n        <td>92.70%</td>\n    </tr>\n    <tr>\n        <td>Alessandro Volta Elementary School</td>\n        <td>96.40%</td>\n    </tr>\n</table>"
                    },
                    "metadata": {}
                }
            ]
        },
        {
            "metadata": {},
            "cell_type": "markdown",
            "source": "Double-click **here** for the solution.\n\n<!-- Solution:\n\n%sql select Name_of_School, Average_Student_Attendance from SCHOOLS \\\n    order by Average_Student_Attendance desc nulls last limit 10 \n\n-->\n"
        },
        {
            "metadata": {},
            "cell_type": "markdown",
            "source": "### Problem 5\n\n##### Retrieve the list of 5 Schools with the lowest Average Student Attendance sorted in ascending order based on attendance\n"
        },
        {
            "metadata": {},
            "cell_type": "code",
            "source": "",
            "execution_count": null,
            "outputs": []
        },
        {
            "metadata": {},
            "cell_type": "markdown",
            "source": "Double-click **here** for the solution.\n\n<!-- Solution:\n\n%sql SELECT Name_of_School, Average_Student_Attendance  \\\n     from SCHOOLS \\\n     order by Average_Student_Attendance \\\n     fetch first 5 rows only\n\n-->\n"
        },
        {
            "metadata": {},
            "cell_type": "markdown",
            "source": "### Problem 6\n\n##### Now remove the '%' sign from the above result set for Average Student Attendance column\n"
        },
        {
            "metadata": {},
            "cell_type": "code",
            "source": "",
            "execution_count": null,
            "outputs": []
        },
        {
            "metadata": {},
            "cell_type": "markdown",
            "source": "Double-click **here** for a hint\n\n<!--\nUse the REPLACE() function to replace '%' with ''\nSee documentation for this function at:\nhttps://www.ibm.com/support/knowledgecenter/en/SSEPGG_10.5.0/com.ibm.db2.luw.sql.ref.doc/doc/r0000843.html\n-->\n"
        },
        {
            "metadata": {},
            "cell_type": "markdown",
            "source": "Double-click **here** for the solution.\n\n<!-- Hint:\n\n%sql SELECT Name_of_School, REPLACE(Average_Student_Attendance, '%', '') \\\n     from SCHOOLS \\\n     order by Average_Student_Attendance \\\n     fetch first 5 rows only\n\n-->\n"
        },
        {
            "metadata": {},
            "cell_type": "markdown",
            "source": "### Problem 7\n\n##### Which Schools have Average Student Attendance lower than 70%?\n"
        },
        {
            "metadata": {},
            "cell_type": "code",
            "source": "",
            "execution_count": null,
            "outputs": []
        },
        {
            "metadata": {},
            "cell_type": "markdown",
            "source": "Double-click **here** for a hint\n\n<!--\nThe datatype of the \"Average_Student_Attendance\" column is varchar.\nSo you cannot use it as is in the where clause for a numeric comparison.\nFirst use the CAST() function to cast it as a DECIMAL or DOUBLE\ne.g. CAST(\"Column_Name\" as DOUBLE)\nor simply: DECIMAL(\"Column_Name\")\n-->\n"
        },
        {
            "metadata": {},
            "cell_type": "markdown",
            "source": "Double-click **here** for another hint\n\n<!--\nDon't forget the '%' age sign needs to be removed before casting\n-->\n"
        },
        {
            "metadata": {},
            "cell_type": "markdown",
            "source": "Double-click **here** for the solution.\n\n<!-- Solution:\n\n%sql SELECT Name_of_School, Average_Student_Attendance  \\\n     from SCHOOLS \\\n     where CAST ( REPLACE(Average_Student_Attendance, '%', '') AS DOUBLE ) < 70 \\\n     order by Average_Student_Attendance\n     \nor,\n\n%sql SELECT Name_of_School, Average_Student_Attendance  \\\n     from SCHOOLS \\\n     where DECIMAL ( REPLACE(Average_Student_Attendance, '%', '') ) < 70 \\\n     order by Average_Student_Attendance\n\n-->\n"
        },
        {
            "metadata": {},
            "cell_type": "markdown",
            "source": "### Problem 8\n\n##### Get the total College Enrollment for each Community Area\n"
        },
        {
            "metadata": {},
            "cell_type": "code",
            "source": "",
            "execution_count": null,
            "outputs": []
        },
        {
            "metadata": {},
            "cell_type": "markdown",
            "source": "Double-click **here** for a hint\n\n<!--\nVerify the exact name of the Enrollment column in the database\nUse the SUM() function to add up the Enrollments for each Community Area\n-->\n"
        },
        {
            "metadata": {},
            "cell_type": "markdown",
            "source": "Double-click **here** for another hint\n\n<!--\nDon't forget to group by the Community Area\n-->\n"
        },
        {
            "metadata": {},
            "cell_type": "markdown",
            "source": "Double-click **here** for the solution.\n\n<!-- Solution:\n\n%sql select Community_Area_Name, sum(College_Enrollment) AS TOTAL_ENROLLMENT \\\n   from SCHOOLS \\\n   group by Community_Area_Name \n\n-->\n"
        },
        {
            "metadata": {},
            "cell_type": "markdown",
            "source": "### Problem 9\n\n##### Get the 5 Community Areas with the least total College Enrollment  sorted in ascending order\n"
        },
        {
            "metadata": {},
            "cell_type": "code",
            "source": "",
            "execution_count": null,
            "outputs": []
        },
        {
            "metadata": {},
            "cell_type": "markdown",
            "source": "Double-click **here** for a hint\n\n<!--\nOrder the previous query and limit the number of rows you fetch\n-->\n"
        },
        {
            "metadata": {},
            "cell_type": "markdown",
            "source": "Double-click **here** for the solution.\n\n<!-- Solution:\n\n%sql select Community_Area_Name, sum(College_Enrollment) AS TOTAL_ENROLLMENT \\\n   from SCHOOLS \\\n   group by Community_Area_Name \\\n   order by TOTAL_ENROLLMENT asc \\\n   fetch first 5 rows only\n\n-->\n"
        },
        {
            "metadata": {},
            "cell_type": "markdown",
            "source": "### Problem 10\n\n##### List 5 schools with lowest safety score.\n"
        },
        {
            "metadata": {},
            "cell_type": "code",
            "source": "",
            "execution_count": null,
            "outputs": []
        },
        {
            "metadata": {},
            "cell_type": "markdown",
            "source": "Double-click **here** for the solution.\n\n<!-- Solution:\n\n%sql SELECT name_of_school, safety_score\nFROM schools\nORDER BY safety_score\nLIMIT 5\n-->\n"
        },
        {
            "metadata": {},
            "cell_type": "markdown",
            "source": "### Problem 11\n\n##### Get the hardship index for the community area which has College Enrollment of 4368\n"
        },
        {
            "metadata": {},
            "cell_type": "code",
            "source": "",
            "execution_count": null,
            "outputs": []
        },
        {
            "metadata": {},
            "cell_type": "markdown",
            "source": "Double-click **here** for the solution.\n\n<!-- Solution:\nNOTE: For this solution to work the CHICAGO_SOCIOECONOMIC_DATA table \n      as created in the last lab of Week 3 should already exist\n\n%%sql \nselect hardship_index \n   from chicago_socioeconomic_data CD, schools CPS \n   where CD.ca = CPS.community_area_number \n      and college_enrollment = 4368\n\n-->\n"
        },
        {
            "metadata": {},
            "cell_type": "markdown",
            "source": "### Problem 12\n\n##### Get the hardship index for the community area which has the school with the  highest enrollment.\n"
        },
        {
            "metadata": {},
            "cell_type": "code",
            "source": "",
            "execution_count": null,
            "outputs": []
        },
        {
            "metadata": {},
            "cell_type": "markdown",
            "source": "Double-click **here** for the solution.\n\n<!-- Solution:\nNOTE: For this solution to work the CHICAGO_SOCIOECONOMIC_DATA table \n      as created in the last lab of Week 3 should already exist\n\n%sql select ca, community_area_name, hardship_index from chicago_socioeconomic_data \\\n   where ca in \\\n   ( select community_area_number from schools order by college_enrollment desc limit 1 )\n\n-->\n"
        },
        {
            "metadata": {},
            "cell_type": "markdown",
            "source": "## Summary\n\n##### In this lab you learned how to work with a real word dataset using SQL and Python. You learned how to query columns with spaces or special characters in their names and with mixed case names. You also used built in database functions and practiced how to sort, limit, and order result sets, as well as used sub-queries and worked with multiple tables.\n"
        },
        {
            "metadata": {},
            "cell_type": "markdown",
            "source": "## Author\n\n<a href=\"https://www.linkedin.com/in/ravahuja/?utm_medium=Exinfluencer&utm_source=Exinfluencer&utm_content=000026UJ&utm_term=10006555&utm_id=NA-SkillsNetwork-Channel-SkillsNetworkCoursesIBMDeveloperSkillsNetworkDB0201ENSkillsNetwork20127838-2021-01-01\" target=\"_blank\">Rav Ahuja</a>\n\n## Change Log\n\n| Date (YYYY-MM-DD) | Version | Changed By        | Change Description                        |\n| ----------------- | ------- | ----------------- | ----------------------------------------- |\n| 2021-07-09        | 2.4     | Malika            | Updated connection string                 |\n| 2021-05-19        | 2.3     | Lakshmi Holla     | Updated question                          |\n| 2021-04-20        | 2.2     | Malika            | Added the libraries                       |\n| 2020-11-27        | 2.1     | Sannareddy Ramesh | Modified data sets and added new problems |\n| 2020-08-28        | 2.0     | Lavanya           | Moved lab to course repo in GitLab        |\n\n<hr>\n\n## <h3 align=\"center\"> \u00a9 IBM Corporation 2020. All rights reserved. <h3/>\n"
        }
    ],
    "metadata": {
        "celltoolbar": "Raw Cell Format",
        "kernelspec": {
            "name": "python3",
            "display_name": "Python 3.8",
            "language": "python"
        },
        "language_info": {
            "name": "python",
            "version": "3.8.11",
            "mimetype": "text/x-python",
            "codemirror_mode": {
                "name": "ipython",
                "version": 3
            },
            "pygments_lexer": "ipython3",
            "nbconvert_exporter": "python",
            "file_extension": ".py"
        },
        "widgets": {
            "state": {},
            "version": "1.1.2"
        }
    },
    "nbformat": 4,
    "nbformat_minor": 4
}