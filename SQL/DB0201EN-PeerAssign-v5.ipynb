{
    "cells": [
        {
            "metadata": {},
            "cell_type": "markdown",
            "source": "<center>\n    <img src=\"https://s3-api.us-geo.objectstorage.softlayer.net/cf-courses-data/CognitiveClass/Logos/organization_logo/organization_logo.png\" width=\"300\" alt=\"cognitiveclass.ai logo\"  />\n</center>\n\n<h1 align=center><font size = 5>Assignment: Notebook for Peer Assignment</font></h1>\n"
        },
        {
            "metadata": {},
            "cell_type": "markdown",
            "source": "# Introduction\n\nUsing this Python notebook you will:\n\n1.  Understand three Chicago datasets\n2.  Load the three datasets into three tables in a Db2 database\n3.  Execute SQL queries to answer assignment questions\n"
        },
        {
            "metadata": {},
            "cell_type": "markdown",
            "source": "## Understand the datasets\n\nTo complete the assignment problems in this notebook you will be using three datasets that are available on the city of Chicago's Data Portal:\n\n1.  <a href=\"https://data.cityofchicago.org/Health-Human-Services/Census-Data-Selected-socioeconomic-indicators-in-C/kn9c-c2s2?utm_medium=Exinfluencer&utm_source=Exinfluencer&utm_content=000026UJ&utm_term=10006555&utm_id=NA-SkillsNetwork-Channel-SkillsNetworkCoursesIBMDeveloperSkillsNetworkDB0201ENSkillsNetwork20127838-2021-01-01\">Socioeconomic Indicators in Chicago</a>\n2.  <a href=\"https://data.cityofchicago.org/Education/Chicago-Public-Schools-Progress-Report-Cards-2011-/9xs2-f89t?utm_medium=Exinfluencer&utm_source=Exinfluencer&utm_content=000026UJ&utm_term=10006555&utm_id=NA-SkillsNetwork-Channel-SkillsNetworkCoursesIBMDeveloperSkillsNetworkDB0201ENSkillsNetwork20127838-2021-01-01\">Chicago Public Schools</a>\n3.  <a href=\"https://data.cityofchicago.org/Public-Safety/Crimes-2001-to-present/ijzp-q8t2?utm_medium=Exinfluencer&utm_source=Exinfluencer&utm_content=000026UJ&utm_term=10006555&utm_id=NA-SkillsNetwork-Channel-SkillsNetworkCoursesIBMDeveloperSkillsNetworkDB0201ENSkillsNetwork20127838-2021-01-01\">Chicago Crime Data</a>\n\n### 1. Socioeconomic Indicators in Chicago\n\nThis dataset contains a selection of six socioeconomic indicators of public health significance and a \u201chardship index,\u201d for each Chicago community area, for the years 2008 \u2013 2012.\n\nA detailed description of this dataset and the original dataset can be obtained from the Chicago Data Portal at:\n[https://data.cityofchicago.org/Health-Human-Services/Census-Data-Selected-socioeconomic-indicators-in-C/kn9c-c2s2](https://data.cityofchicago.org/Health-Human-Services/Census-Data-Selected-socioeconomic-indicators-in-C/kn9c-c2s2?utm_medium=Exinfluencer&utm_source=Exinfluencer&utm_content=000026UJ&utm_term=10006555&utm_id=NA-SkillsNetwork-Channel-SkillsNetworkCoursesIBMDeveloperSkillsNetworkDB0201ENSkillsNetwork20127838-2021-01-01&cm_mmc=Email_Newsletter-\\_-Developer_Ed%2BTech-\\_-WW_WW-\\_-SkillsNetwork-Courses-IBMDeveloperSkillsNetwork-DB0201EN-SkillsNetwork-20127838&cm_mmca1=000026UJ&cm_mmca2=10006555&cm_mmca3=M12345678&cvosrc=email.Newsletter.M12345678&cvo_campaign=000026UJ)\n\n### 2. Chicago Public Schools\n\nThis dataset shows all school level performance data used to create CPS School Report Cards for the 2011-2012 school year. This dataset is provided by the city of Chicago's Data Portal.\n\nA detailed description of this dataset and the original dataset can be obtained from the Chicago Data Portal at:\n[https://data.cityofchicago.org/Education/Chicago-Public-Schools-Progress-Report-Cards-2011-/9xs2-f89t](https://data.cityofchicago.org/Education/Chicago-Public-Schools-Progress-Report-Cards-2011-/9xs2-f89t?utm_medium=Exinfluencer&utm_source=Exinfluencer&utm_content=000026UJ&utm_term=10006555&utm_id=NA-SkillsNetwork-Channel-SkillsNetworkCoursesIBMDeveloperSkillsNetworkDB0201ENSkillsNetwork20127838-2021-01-01&cm_mmc=Email_Newsletter-\\_-Developer_Ed%2BTech-\\_-WW_WW-\\_-SkillsNetwork-Courses-IBMDeveloperSkillsNetwork-DB0201EN-SkillsNetwork-20127838&cm_mmca1=000026UJ&cm_mmca2=10006555&cm_mmca3=M12345678&cvosrc=email.Newsletter.M12345678&cvo_campaign=000026UJ)\n\n### 3. Chicago Crime Data\n\nThis dataset reflects reported incidents of crime (with the exception of murders where data exists for each victim) that occurred in the City of Chicago from 2001 to present, minus the most recent seven days.\n\nA detailed description of this dataset and the original dataset can be obtained from the Chicago Data Portal at:\n[https://data.cityofchicago.org/Public-Safety/Crimes-2001-to-present/ijzp-q8t2](https://data.cityofchicago.org/Public-Safety/Crimes-2001-to-present/ijzp-q8t2?utm_medium=Exinfluencer&utm_source=Exinfluencer&utm_content=000026UJ&utm_term=10006555&utm_id=NA-SkillsNetwork-Channel-SkillsNetworkCoursesIBMDeveloperSkillsNetworkDB0201ENSkillsNetwork20127838-2021-01-01&cm_mmc=Email_Newsletter-\\_-Developer_Ed%2BTech-\\_-WW_WW-\\_-SkillsNetwork-Courses-IBMDeveloperSkillsNetwork-DB0201EN-SkillsNetwork-20127838&cm_mmca1=000026UJ&cm_mmca2=10006555&cm_mmca3=M12345678&cvosrc=email.Newsletter.M12345678&cvo_campaign=000026UJ)\n"
        },
        {
            "metadata": {},
            "cell_type": "markdown",
            "source": "### Download the datasets\n\nThis assignment requires you to have these three tables populated with a subset of the whole datasets.\n\nIn many cases the dataset to be analyzed is available as a .CSV (comma separated values) file, perhaps on the internet. Click on the links below to download and save the datasets (.CSV files):\n\n*   <a href=\"https://cf-courses-data.s3.us.cloud-object-storage.appdomain.cloud/IBMDeveloperSkillsNetwork-DB0201EN-SkillsNetwork/labs/FinalModule_Coursera_V5/data/ChicagoCensusData.csv?utm_medium=Exinfluencer&utm_source=Exinfluencer&utm_content=000026UJ&utm_term=10006555&utm_id=NA-SkillsNetwork-Channel-SkillsNetworkCoursesIBMDeveloperSkillsNetworkDB0201ENSkillsNetwork20127838-2021-01-01\" target=\"_blank\">Chicago Census Data</a>\n\n*   <a href=\"https://cf-courses-data.s3.us.cloud-object-storage.appdomain.cloud/IBMDeveloperSkillsNetwork-DB0201EN-SkillsNetwork/labs/FinalModule_Coursera_V5/data/ChicagoPublicSchools.csv?utm_medium=Exinfluencer&utm_source=Exinfluencer&utm_content=000026UJ&utm_term=10006555&utm_id=NA-SkillsNetwork-Channel-SkillsNetworkCoursesIBMDeveloperSkillsNetworkDB0201ENSkillsNetwork20127838-2021-01-01\" target=\"_blank\">Chicago Public Schools</a>\n\n*   <a href=\"https://cf-courses-data.s3.us.cloud-object-storage.appdomain.cloud/IBMDeveloperSkillsNetwork-DB0201EN-SkillsNetwork/labs/FinalModule_Coursera_V5/data/ChicagoCrimeData.csv?utm_medium=Exinfluencer&utm_source=Exinfluencer&utm_content=000026UJ&utm_term=10006555&utm_id=NA-SkillsNetwork-Channel-SkillsNetworkCoursesIBMDeveloperSkillsNetworkDB0201ENSkillsNetwork20127838-2021-01-01\" target=\"_blank\">Chicago Crime Data</a>\n\n**NOTE:** Ensure you have downloaded the datasets using the links above instead of directly from the Chicago Data Portal. The versions linked here are subsets of the original datasets and have some of the column names modified to be more database friendly which will make it easier to complete this assignment.\n"
        },
        {
            "metadata": {},
            "cell_type": "markdown",
            "source": "### Store the datasets in database tables\n\nTo analyze the data using SQL, it first needs to be stored in the database.\n\nWhile it is easier to read the dataset into a Pandas dataframe and then PERSIST it into the database as we saw in Week 3 Lab 3, it results in mapping to default datatypes which may not be optimal for SQL querying. For example a long textual field may map to a CLOB instead of a VARCHAR.\n\nTherefore, **it is highly recommended to manually load the table using the database console LOAD tool, as indicated in Week 2 Lab 1 Part II**. The only difference with that lab is that in Step 5 of the instructions you will need to click on create \"(+) New Table\" and specify the name of the table you want to create and then click \"Next\".\n\n<img src = \"https://cf-courses-data.s3.us.cloud-object-storage.appdomain.cloud/IBMDeveloperSkillsNetwork-DB0201EN-SkillsNetwork/labs/FinalModule_Coursera_V5/images/LoadingData.png\">\n\n##### Now open the Db2 console, open the LOAD tool, Select / Drag the .CSV file for the first dataset, Next create a New Table, and then follow the steps on-screen instructions to load the data. Name the new tables as follows:\n\n1.  **CENSUS_DATA**\n2.  **CHICAGO_PUBLIC_SCHOOLS**\n3.  **CHICAGO_CRIME_DATA**\n"
        },
        {
            "metadata": {},
            "cell_type": "markdown",
            "source": "### Connect to the database\n\nLet us first load the SQL extension and establish a connection with the database\n"
        },
        {
            "metadata": {},
            "cell_type": "code",
            "source": "!pip install sqlalchemy==1.3.9\n!pip install ibm_db_sa\n!pip install ipython-sql",
            "execution_count": 5,
            "outputs": [
                {
                    "output_type": "stream",
                    "text": "Requirement already satisfied: sqlalchemy==1.3.9 in /opt/conda/envs/Python-3.8-main/lib/python3.8/site-packages (1.3.9)\nRequirement already satisfied: ibm_db_sa in /opt/conda/envs/Python-3.8-main/lib/python3.8/site-packages (0.3.7)\nRequirement already satisfied: ibm-db>=2.0.0 in /opt/conda/envs/Python-3.8-main/lib/python3.8/site-packages (from ibm_db_sa) (3.0.4)\nRequirement already satisfied: sqlalchemy>=0.7.3 in /opt/conda/envs/Python-3.8-main/lib/python3.8/site-packages (from ibm_db_sa) (1.3.9)\nRequirement already satisfied: ipython-sql in /opt/conda/envs/Python-3.8-main/lib/python3.8/site-packages (0.4.0)\nRequirement already satisfied: sqlalchemy>=0.6.7 in /opt/conda/envs/Python-3.8-main/lib/python3.8/site-packages (from ipython-sql) (1.3.9)\nRequirement already satisfied: six in /opt/conda/envs/Python-3.8-main/lib/python3.8/site-packages (from ipython-sql) (1.15.0)\nRequirement already satisfied: ipython-genutils>=0.1.0 in /opt/conda/envs/Python-3.8-main/lib/python3.8/site-packages (from ipython-sql) (0.2.0)\nRequirement already satisfied: ipython>=1.0 in /opt/conda/envs/Python-3.8-main/lib/python3.8/site-packages (from ipython-sql) (7.22.0)\nRequirement already satisfied: sqlparse in /opt/conda/envs/Python-3.8-main/lib/python3.8/site-packages (from ipython-sql) (0.4.2)\nRequirement already satisfied: prettytable<1 in /opt/conda/envs/Python-3.8-main/lib/python3.8/site-packages (from ipython-sql) (0.7.2)\nRequirement already satisfied: setuptools>=18.5 in /opt/conda/envs/Python-3.8-main/lib/python3.8/site-packages (from ipython>=1.0->ipython-sql) (52.0.0.post20210125)\nRequirement already satisfied: traitlets>=4.2 in /opt/conda/envs/Python-3.8-main/lib/python3.8/site-packages (from ipython>=1.0->ipython-sql) (5.0.5)\nRequirement already satisfied: prompt-toolkit!=3.0.0,!=3.0.1,<3.1.0,>=2.0.0 in /opt/conda/envs/Python-3.8-main/lib/python3.8/site-packages (from ipython>=1.0->ipython-sql) (3.0.17)\nRequirement already satisfied: decorator in /opt/conda/envs/Python-3.8-main/lib/python3.8/site-packages (from ipython>=1.0->ipython-sql) (5.0.9)\nRequirement already satisfied: pexpect>4.3 in /opt/conda/envs/Python-3.8-main/lib/python3.8/site-packages (from ipython>=1.0->ipython-sql) (4.8.0)\nRequirement already satisfied: pygments in /opt/conda/envs/Python-3.8-main/lib/python3.8/site-packages (from ipython>=1.0->ipython-sql) (2.9.0)\nRequirement already satisfied: backcall in /opt/conda/envs/Python-3.8-main/lib/python3.8/site-packages (from ipython>=1.0->ipython-sql) (0.2.0)\nRequirement already satisfied: pickleshare in /opt/conda/envs/Python-3.8-main/lib/python3.8/site-packages (from ipython>=1.0->ipython-sql) (0.7.5)\nRequirement already satisfied: jedi>=0.16 in /opt/conda/envs/Python-3.8-main/lib/python3.8/site-packages (from ipython>=1.0->ipython-sql) (0.17.2)\nRequirement already satisfied: parso<0.8.0,>=0.7.0 in /opt/conda/envs/Python-3.8-main/lib/python3.8/site-packages (from jedi>=0.16->ipython>=1.0->ipython-sql) (0.7.0)\nRequirement already satisfied: ptyprocess>=0.5 in /opt/conda/envs/Python-3.8-main/lib/python3.8/site-packages (from pexpect>4.3->ipython>=1.0->ipython-sql) (0.7.0)\nRequirement already satisfied: wcwidth in /opt/conda/envs/Python-3.8-main/lib/python3.8/site-packages (from prompt-toolkit!=3.0.0,!=3.0.1,<3.1.0,>=2.0.0->ipython>=1.0->ipython-sql) (0.2.5)\n",
                    "name": "stdout"
                }
            ]
        },
        {
            "metadata": {},
            "cell_type": "code",
            "source": "%load_ext sql",
            "execution_count": 6,
            "outputs": [
                {
                    "output_type": "stream",
                    "text": "The sql extension is already loaded. To reload it, use:\n  %reload_ext sql\n",
                    "name": "stdout"
                }
            ]
        },
        {
            "metadata": {},
            "cell_type": "markdown",
            "source": "In the next cell enter your db2 connection string. Recall you created Service Credentials for your Db2 instance in first lab in Week 3. From your Db2 service credentials copy everything after db2:// (except the double quote at the end) and paste it in the cell below after ibm_db_sa://\n\n<img src =\"https://cf-courses-data.s3.us.cloud-object-storage.appdomain.cloud/IBMDeveloperSkillsNetwork-DB0201EN-SkillsNetwork/labs/FinalModule_Coursera_V5/images/details.png\">\n"
        },
        {
            "metadata": {},
            "cell_type": "code",
            "source": "# Remember the connection string is of the format:\n# %sql ibm_db_sa://my-username:my-password@my-hostname:my-port/my-db-name?security=SSL\n# Enter the connection string for your Db2 on Cloud database instance below\n%sql ibm_db_sa://zrv74471:nkwFfyViUqBgeJZi@ba99a9e6-d59e-4883-8fc0-d6a8c9f7a08f.c1ogj3sd0tgtu0lqde00.databases.appdomain.cloud:31321/BLUDB?security=SSL",
            "execution_count": 7,
            "outputs": []
        },
        {
            "metadata": {},
            "cell_type": "code",
            "source": "import pandas\nCENSUS_DATA = pandas.read_csv('https://cf-courses-data.s3.us.cloud-object-storage.appdomain.cloud/IBMDeveloperSkillsNetwork-DB0201EN-SkillsNetwork/labs/FinalModule_Coursera_V5/data/ChicagoCensusData.csv?utm_medium=Exinfluencer&utm_source=Exinfluencer&utm_content=000026UJ&utm_term=10006555&utm_id=NA-SkillsNetwork-Channel-SkillsNetworkCoursesIBMDeveloperSkillsNetworkDB0201ENSkillsNetwork20127838-2021-01-01')\nCHICAGO_PUBLIC_SCHOOLS = pandas.read_csv('https://cf-courses-data.s3.us.cloud-object-storage.appdomain.cloud/IBMDeveloperSkillsNetwork-DB0201EN-SkillsNetwork/labs/FinalModule_Coursera_V5/data/ChicagoPublicSchools.csv?utm_medium=Exinfluencer&utm_source=Exinfluencer&utm_content=000026UJ&utm_term=10006555&utm_id=NA-SkillsNetwork-Channel-SkillsNetworkCoursesIBMDeveloperSkillsNetworkDB0201ENSkillsNetwork20127838-2021-01-01')\nCHICAGO_CRIME_DATA = pandas.read_csv('https://cf-courses-data.s3.us.cloud-object-storage.appdomain.cloud/IBMDeveloperSkillsNetwork-DB0201EN-SkillsNetwork/labs/FinalModule_Coursera_V5/data/ChicagoCrimeData.csv?utm_medium=Exinfluencer&utm_source=Exinfluencer&utm_content=000026UJ&utm_term=10006555&utm_id=NA-SkillsNetwork-Channel-SkillsNetworkCoursesIBMDeveloperSkillsNetworkDB0201ENSkillsNetwork20127838-2021-01-01')",
            "execution_count": 8,
            "outputs": []
        },
        {
            "metadata": {},
            "cell_type": "code",
            "source": "%sql --persist CENSUS_DATA\n%sql --persist CHICAGO_PUBLIC_SCHOOLS\n%sql --persist CHICAGO_CRIME_DATA\n\n#%sql DROP TABLE CENSUS_DATA\n#%sql DROP TABLE CHICAGO_PUBLIC_SCHOOLS\n#%sql DROP TABLE CHICAGO_CRIME_DATA\n\n",
            "execution_count": 9,
            "outputs": [
                {
                    "output_type": "stream",
                    "text": " * ibm_db_sa://zrv74471:***@ba99a9e6-d59e-4883-8fc0-d6a8c9f7a08f.c1ogj3sd0tgtu0lqde00.databases.appdomain.cloud:31321/BLUDB\n * ibm_db_sa://zrv74471:***@ba99a9e6-d59e-4883-8fc0-d6a8c9f7a08f.c1ogj3sd0tgtu0lqde00.databases.appdomain.cloud:31321/BLUDB\n * ibm_db_sa://zrv74471:***@ba99a9e6-d59e-4883-8fc0-d6a8c9f7a08f.c1ogj3sd0tgtu0lqde00.databases.appdomain.cloud:31321/BLUDB\n",
                    "name": "stdout"
                },
                {
                    "output_type": "execute_result",
                    "execution_count": 9,
                    "data": {
                        "text/plain": "'Persisted chicago_crime_data'"
                    },
                    "metadata": {}
                }
            ]
        },
        {
            "metadata": {},
            "cell_type": "code",
            "source": "CHICAGO_CRIME_DATA",
            "execution_count": 29,
            "outputs": [
                {
                    "output_type": "execute_result",
                    "execution_count": 29,
                    "data": {
                        "text/plain": "           ID CASE_NUMBER        DATE                     BLOCK  IUCR  \\\n0     3512276    HK587712  2004-08-28        047XX S KEDZIE AVE   890   \n1     3406613    HK456306  2004-06-26  009XX N CENTRAL PARK AVE   820   \n2     8002131    HT233595  2011-04-04        043XX S WABASH AVE   820   \n3     7903289    HT133522  2010-12-30      083XX S KINGSTON AVE   840   \n4    10402076    HZ138551  2016-02-02           033XX W 66TH ST   820   \n..        ...         ...         ...                       ...   ...   \n528  10453948    HZ192829  2016-03-01           028XX E 79TH ST  1055   \n529  10397129    HZ133234  2016-01-29       006XX W HARRISON ST  5114   \n530   3269495    HJ747227  2003-11-08           012XX W 81ST ST   510   \n531  10840565    JA143710  2017-02-06        009XX N KARLOV AVE  5073   \n532   1326195     G021609  2001-01-11       087XX S ESCANABA AV  9901   \n\n                         PRIMARY_TYPE  \\\n0                               THEFT   \n1                               THEFT   \n2                               THEFT   \n3                               THEFT   \n4                               THEFT   \n..                                ...   \n528                 HUMAN TRAFFICKING   \n529                    NON - CRIMINAL   \n530                         RITUALISM   \n531  NON-CRIMINAL (SUBJECT SPECIFIED)   \n532                 DOMESTIC VIOLENCE   \n\n                                     DESCRIPTION  \\\n0                                  FROM BUILDING   \n1                                 $500 AND UNDER   \n2                                 $500 AND UNDER   \n3                  FINANCIAL ID THEFT: OVER $300   \n4                                 $500 AND UNDER   \n..                                           ...   \n528                        INVOLUNTARY SERVITUDE   \n529                            FOID - REVOCATION   \n530  AGG RIT MUT: HANDS/FIST/FEET SERIOUS INJURY   \n531       NOTIFICATION OF CIVIL NO CONTACT ORDER   \n532                            DOMESTIC VIOLENCE   \n\n             LOCATION_DESCRIPTION  ARREST  DOMESTIC  ...  DISTRICT  WARD  \\\n0              SMALL RETAIL STORE   False     False  ...         9  14.0   \n1                           OTHER   False     False  ...        11  27.0   \n2    NURSING HOME/RETIREMENT HOME   False     False  ...         2   3.0   \n3                       RESIDENCE   False     False  ...         4   7.0   \n4                           ALLEY   False     False  ...         8  15.0   \n..                            ...     ...       ...  ...       ...   ...   \n528                     APARTMENT   False     False  ...         4   7.0   \n529                        STREET   False     False  ...         1   2.0   \n530                         OTHER   False     False  ...         6  21.0   \n531                     RESIDENCE   False      True  ...        11  37.0   \n532                     APARTMENT    True      True  ...         4   NaN   \n\n     COMMUNITY_AREA_NUMBER  FBICODE X_COORDINATE  Y_COORDINATE  YEAR  \\\n0                     58.0        6    1155838.0     1873050.0  2004   \n1                     23.0        6    1152206.0     1906127.0  2004   \n2                     38.0        6    1177436.0     1876313.0  2011   \n3                     46.0        6    1194622.0     1850125.0  2010   \n4                     66.0        6    1155240.0     1860661.0  2016   \n..                     ...      ...          ...           ...   ...   \n528                   46.0       26    1196679.0     1853139.0  2016   \n529                   28.0       26    1172257.0     1897564.0  2016   \n530                   71.0      04B    1169648.0     1851076.0  2003   \n531                   23.0       26    1148881.0     1905963.0  2017   \n532                    NaN      08B    1196869.0     1847416.0  2001   \n\n      LATITUDE  LONGITUDE                       LOCATION  \n0    41.807440 -87.703956    (41.8074405, -87.703955849)  \n1    41.898280 -87.716406  (41.898279962, -87.716405505)  \n2    41.815933 -87.624642  (41.815933131, -87.624642127)  \n3    41.743665 -87.562463  (41.743665322, -87.562462756)  \n4    41.773455 -87.706480  (41.773455295, -87.706480471)  \n..         ...        ...                            ...  \n528  41.751885 -87.554826  (41.751885152, -87.554825997)  \n529  41.874363 -87.643013  (41.874363279, -87.643013039)  \n530  41.746852 -87.653941  (41.746852486, -87.653941385)  \n531  41.897895 -87.728622   (41.89789489, -87.728622316)  \n532  41.736176 -87.554320   (41.73617608, -87.554319607)  \n\n[533 rows x 21 columns]",
                        "text/html": "<div>\n<style scoped>\n    .dataframe tbody tr th:only-of-type {\n        vertical-align: middle;\n    }\n\n    .dataframe tbody tr th {\n        vertical-align: top;\n    }\n\n    .dataframe thead th {\n        text-align: right;\n    }\n</style>\n<table border=\"1\" class=\"dataframe\">\n  <thead>\n    <tr style=\"text-align: right;\">\n      <th></th>\n      <th>ID</th>\n      <th>CASE_NUMBER</th>\n      <th>DATE</th>\n      <th>BLOCK</th>\n      <th>IUCR</th>\n      <th>PRIMARY_TYPE</th>\n      <th>DESCRIPTION</th>\n      <th>LOCATION_DESCRIPTION</th>\n      <th>ARREST</th>\n      <th>DOMESTIC</th>\n      <th>...</th>\n      <th>DISTRICT</th>\n      <th>WARD</th>\n      <th>COMMUNITY_AREA_NUMBER</th>\n      <th>FBICODE</th>\n      <th>X_COORDINATE</th>\n      <th>Y_COORDINATE</th>\n      <th>YEAR</th>\n      <th>LATITUDE</th>\n      <th>LONGITUDE</th>\n      <th>LOCATION</th>\n    </tr>\n  </thead>\n  <tbody>\n    <tr>\n      <th>0</th>\n      <td>3512276</td>\n      <td>HK587712</td>\n      <td>2004-08-28</td>\n      <td>047XX S KEDZIE AVE</td>\n      <td>890</td>\n      <td>THEFT</td>\n      <td>FROM BUILDING</td>\n      <td>SMALL RETAIL STORE</td>\n      <td>False</td>\n      <td>False</td>\n      <td>...</td>\n      <td>9</td>\n      <td>14.0</td>\n      <td>58.0</td>\n      <td>6</td>\n      <td>1155838.0</td>\n      <td>1873050.0</td>\n      <td>2004</td>\n      <td>41.807440</td>\n      <td>-87.703956</td>\n      <td>(41.8074405, -87.703955849)</td>\n    </tr>\n    <tr>\n      <th>1</th>\n      <td>3406613</td>\n      <td>HK456306</td>\n      <td>2004-06-26</td>\n      <td>009XX N CENTRAL PARK AVE</td>\n      <td>820</td>\n      <td>THEFT</td>\n      <td>$500 AND UNDER</td>\n      <td>OTHER</td>\n      <td>False</td>\n      <td>False</td>\n      <td>...</td>\n      <td>11</td>\n      <td>27.0</td>\n      <td>23.0</td>\n      <td>6</td>\n      <td>1152206.0</td>\n      <td>1906127.0</td>\n      <td>2004</td>\n      <td>41.898280</td>\n      <td>-87.716406</td>\n      <td>(41.898279962, -87.716405505)</td>\n    </tr>\n    <tr>\n      <th>2</th>\n      <td>8002131</td>\n      <td>HT233595</td>\n      <td>2011-04-04</td>\n      <td>043XX S WABASH AVE</td>\n      <td>820</td>\n      <td>THEFT</td>\n      <td>$500 AND UNDER</td>\n      <td>NURSING HOME/RETIREMENT HOME</td>\n      <td>False</td>\n      <td>False</td>\n      <td>...</td>\n      <td>2</td>\n      <td>3.0</td>\n      <td>38.0</td>\n      <td>6</td>\n      <td>1177436.0</td>\n      <td>1876313.0</td>\n      <td>2011</td>\n      <td>41.815933</td>\n      <td>-87.624642</td>\n      <td>(41.815933131, -87.624642127)</td>\n    </tr>\n    <tr>\n      <th>3</th>\n      <td>7903289</td>\n      <td>HT133522</td>\n      <td>2010-12-30</td>\n      <td>083XX S KINGSTON AVE</td>\n      <td>840</td>\n      <td>THEFT</td>\n      <td>FINANCIAL ID THEFT: OVER $300</td>\n      <td>RESIDENCE</td>\n      <td>False</td>\n      <td>False</td>\n      <td>...</td>\n      <td>4</td>\n      <td>7.0</td>\n      <td>46.0</td>\n      <td>6</td>\n      <td>1194622.0</td>\n      <td>1850125.0</td>\n      <td>2010</td>\n      <td>41.743665</td>\n      <td>-87.562463</td>\n      <td>(41.743665322, -87.562462756)</td>\n    </tr>\n    <tr>\n      <th>4</th>\n      <td>10402076</td>\n      <td>HZ138551</td>\n      <td>2016-02-02</td>\n      <td>033XX W 66TH ST</td>\n      <td>820</td>\n      <td>THEFT</td>\n      <td>$500 AND UNDER</td>\n      <td>ALLEY</td>\n      <td>False</td>\n      <td>False</td>\n      <td>...</td>\n      <td>8</td>\n      <td>15.0</td>\n      <td>66.0</td>\n      <td>6</td>\n      <td>1155240.0</td>\n      <td>1860661.0</td>\n      <td>2016</td>\n      <td>41.773455</td>\n      <td>-87.706480</td>\n      <td>(41.773455295, -87.706480471)</td>\n    </tr>\n    <tr>\n      <th>...</th>\n      <td>...</td>\n      <td>...</td>\n      <td>...</td>\n      <td>...</td>\n      <td>...</td>\n      <td>...</td>\n      <td>...</td>\n      <td>...</td>\n      <td>...</td>\n      <td>...</td>\n      <td>...</td>\n      <td>...</td>\n      <td>...</td>\n      <td>...</td>\n      <td>...</td>\n      <td>...</td>\n      <td>...</td>\n      <td>...</td>\n      <td>...</td>\n      <td>...</td>\n      <td>...</td>\n    </tr>\n    <tr>\n      <th>528</th>\n      <td>10453948</td>\n      <td>HZ192829</td>\n      <td>2016-03-01</td>\n      <td>028XX E 79TH ST</td>\n      <td>1055</td>\n      <td>HUMAN TRAFFICKING</td>\n      <td>INVOLUNTARY SERVITUDE</td>\n      <td>APARTMENT</td>\n      <td>False</td>\n      <td>False</td>\n      <td>...</td>\n      <td>4</td>\n      <td>7.0</td>\n      <td>46.0</td>\n      <td>26</td>\n      <td>1196679.0</td>\n      <td>1853139.0</td>\n      <td>2016</td>\n      <td>41.751885</td>\n      <td>-87.554826</td>\n      <td>(41.751885152, -87.554825997)</td>\n    </tr>\n    <tr>\n      <th>529</th>\n      <td>10397129</td>\n      <td>HZ133234</td>\n      <td>2016-01-29</td>\n      <td>006XX W HARRISON ST</td>\n      <td>5114</td>\n      <td>NON - CRIMINAL</td>\n      <td>FOID - REVOCATION</td>\n      <td>STREET</td>\n      <td>False</td>\n      <td>False</td>\n      <td>...</td>\n      <td>1</td>\n      <td>2.0</td>\n      <td>28.0</td>\n      <td>26</td>\n      <td>1172257.0</td>\n      <td>1897564.0</td>\n      <td>2016</td>\n      <td>41.874363</td>\n      <td>-87.643013</td>\n      <td>(41.874363279, -87.643013039)</td>\n    </tr>\n    <tr>\n      <th>530</th>\n      <td>3269495</td>\n      <td>HJ747227</td>\n      <td>2003-11-08</td>\n      <td>012XX W 81ST ST</td>\n      <td>510</td>\n      <td>RITUALISM</td>\n      <td>AGG RIT MUT: HANDS/FIST/FEET SERIOUS INJURY</td>\n      <td>OTHER</td>\n      <td>False</td>\n      <td>False</td>\n      <td>...</td>\n      <td>6</td>\n      <td>21.0</td>\n      <td>71.0</td>\n      <td>04B</td>\n      <td>1169648.0</td>\n      <td>1851076.0</td>\n      <td>2003</td>\n      <td>41.746852</td>\n      <td>-87.653941</td>\n      <td>(41.746852486, -87.653941385)</td>\n    </tr>\n    <tr>\n      <th>531</th>\n      <td>10840565</td>\n      <td>JA143710</td>\n      <td>2017-02-06</td>\n      <td>009XX N KARLOV AVE</td>\n      <td>5073</td>\n      <td>NON-CRIMINAL (SUBJECT SPECIFIED)</td>\n      <td>NOTIFICATION OF CIVIL NO CONTACT ORDER</td>\n      <td>RESIDENCE</td>\n      <td>False</td>\n      <td>True</td>\n      <td>...</td>\n      <td>11</td>\n      <td>37.0</td>\n      <td>23.0</td>\n      <td>26</td>\n      <td>1148881.0</td>\n      <td>1905963.0</td>\n      <td>2017</td>\n      <td>41.897895</td>\n      <td>-87.728622</td>\n      <td>(41.89789489, -87.728622316)</td>\n    </tr>\n    <tr>\n      <th>532</th>\n      <td>1326195</td>\n      <td>G021609</td>\n      <td>2001-01-11</td>\n      <td>087XX S ESCANABA AV</td>\n      <td>9901</td>\n      <td>DOMESTIC VIOLENCE</td>\n      <td>DOMESTIC VIOLENCE</td>\n      <td>APARTMENT</td>\n      <td>True</td>\n      <td>True</td>\n      <td>...</td>\n      <td>4</td>\n      <td>NaN</td>\n      <td>NaN</td>\n      <td>08B</td>\n      <td>1196869.0</td>\n      <td>1847416.0</td>\n      <td>2001</td>\n      <td>41.736176</td>\n      <td>-87.554320</td>\n      <td>(41.73617608, -87.554319607)</td>\n    </tr>\n  </tbody>\n</table>\n<p>533 rows \u00d7 21 columns</p>\n</div>"
                    },
                    "metadata": {}
                }
            ]
        },
        {
            "metadata": {},
            "cell_type": "markdown",
            "source": "## Problems\n\nNow write and execute SQL queries to solve assignment problems\n\n### Problem 1\n\n##### Find the total number of crimes recorded in the CRIME table.\n"
        },
        {
            "metadata": {},
            "cell_type": "code",
            "source": "%sql SELECT COUNT(*) FROM CHICAGO_CRIME_DATA",
            "execution_count": 11,
            "outputs": [
                {
                    "output_type": "stream",
                    "text": " * ibm_db_sa://zrv74471:***@ba99a9e6-d59e-4883-8fc0-d6a8c9f7a08f.c1ogj3sd0tgtu0lqde00.databases.appdomain.cloud:31321/BLUDB\nDone.\n",
                    "name": "stdout"
                },
                {
                    "output_type": "execute_result",
                    "execution_count": 11,
                    "data": {
                        "text/plain": "[(533,)]",
                        "text/html": "<table>\n    <tr>\n        <th>1</th>\n    </tr>\n    <tr>\n        <td>533</td>\n    </tr>\n</table>"
                    },
                    "metadata": {}
                }
            ]
        },
        {
            "metadata": {},
            "cell_type": "markdown",
            "source": "### Problem 2\n\n##### List community areas with per capita income less than 11000.\n"
        },
        {
            "metadata": {},
            "cell_type": "code",
            "source": "%sql select COMMUNITY_AREA_NAME, PER_CAPITA_INCOME from CENSUS_DATA WHERE PER_CAPITA_INCOME<11000",
            "execution_count": 12,
            "outputs": [
                {
                    "output_type": "stream",
                    "text": " * ibm_db_sa://zrv74471:***@ba99a9e6-d59e-4883-8fc0-d6a8c9f7a08f.c1ogj3sd0tgtu0lqde00.databases.appdomain.cloud:31321/BLUDB\nDone.\n",
                    "name": "stdout"
                },
                {
                    "output_type": "execute_result",
                    "execution_count": 12,
                    "data": {
                        "text/plain": "[('West Garfield Park', 10934),\n ('South Lawndale', 10402),\n ('Fuller Park', 10432),\n ('Riverdale', 8201)]",
                        "text/html": "<table>\n    <tr>\n        <th>community_area_name</th>\n        <th>per_capita_income</th>\n    </tr>\n    <tr>\n        <td>West Garfield Park</td>\n        <td>10934</td>\n    </tr>\n    <tr>\n        <td>South Lawndale</td>\n        <td>10402</td>\n    </tr>\n    <tr>\n        <td>Fuller Park</td>\n        <td>10432</td>\n    </tr>\n    <tr>\n        <td>Riverdale</td>\n        <td>8201</td>\n    </tr>\n</table>"
                    },
                    "metadata": {}
                }
            ]
        },
        {
            "metadata": {},
            "cell_type": "markdown",
            "source": "### Problem 3\n\n##### List all case numbers for crimes  involving minors?(children are not considered minors for the purposes of crime analysis)\n"
        },
        {
            "metadata": {},
            "cell_type": "code",
            "source": "%sql select CASE_NUMBER FROM CHICAGO_CRIME_DATA WHERE PRIMARY_TYPE LIKE '%CHILD%'",
            "execution_count": 13,
            "outputs": [
                {
                    "output_type": "stream",
                    "text": " * ibm_db_sa://zrv74471:***@ba99a9e6-d59e-4883-8fc0-d6a8c9f7a08f.c1ogj3sd0tgtu0lqde00.databases.appdomain.cloud:31321/BLUDB\nDone.\n",
                    "name": "stdout"
                },
                {
                    "output_type": "execute_result",
                    "execution_count": 13,
                    "data": {
                        "text/plain": "[('HN567387',), ('HR391350',), ('HM768251',), ('HT394616',)]",
                        "text/html": "<table>\n    <tr>\n        <th>case_number</th>\n    </tr>\n    <tr>\n        <td>HN567387</td>\n    </tr>\n    <tr>\n        <td>HR391350</td>\n    </tr>\n    <tr>\n        <td>HM768251</td>\n    </tr>\n    <tr>\n        <td>HT394616</td>\n    </tr>\n</table>"
                    },
                    "metadata": {}
                }
            ]
        },
        {
            "metadata": {},
            "cell_type": "markdown",
            "source": "### Problem 4\n\n##### List all kidnapping crimes involving a child?\n"
        },
        {
            "metadata": {},
            "cell_type": "code",
            "source": "%sql select ID, PRIMARY_TYPE, DESCRIPTION FROM CHICAGO_CRIME_DATA WHERE PRIMARY_TYPE LIKE '%KIDNAP%' AND DESCRIPTION LIKE '%CHILD%'",
            "execution_count": 14,
            "outputs": [
                {
                    "output_type": "stream",
                    "text": " * ibm_db_sa://zrv74471:***@ba99a9e6-d59e-4883-8fc0-d6a8c9f7a08f.c1ogj3sd0tgtu0lqde00.databases.appdomain.cloud:31321/BLUDB\nDone.\n",
                    "name": "stdout"
                },
                {
                    "output_type": "execute_result",
                    "execution_count": 14,
                    "data": {
                        "text/plain": "[(5276766, 'KIDNAPPING', 'CHILD ABDUCTION/STRANGER')]",
                        "text/html": "<table>\n    <tr>\n        <th>id</th>\n        <th>primary_type</th>\n        <th>description</th>\n    </tr>\n    <tr>\n        <td>5276766</td>\n        <td>KIDNAPPING</td>\n        <td>CHILD ABDUCTION/STRANGER</td>\n    </tr>\n</table>"
                    },
                    "metadata": {}
                }
            ]
        },
        {
            "metadata": {},
            "cell_type": "markdown",
            "source": "### Problem 5\n\n##### What kinds of crimes were recorded at schools?\n"
        },
        {
            "metadata": {},
            "cell_type": "code",
            "source": "%sql select ID, PRIMARY_TYPE, LOCATION_DESCRIPTION FROM CHICAGO_CRIME_DATA WHERE LOCATION_DESCRIPTION LIKE '%SCHOOL%'",
            "execution_count": 15,
            "outputs": [
                {
                    "output_type": "stream",
                    "text": " * ibm_db_sa://zrv74471:***@ba99a9e6-d59e-4883-8fc0-d6a8c9f7a08f.c1ogj3sd0tgtu0lqde00.databases.appdomain.cloud:31321/BLUDB\nDone.\n",
                    "name": "stdout"
                },
                {
                    "output_type": "execute_result",
                    "execution_count": 15,
                    "data": {
                        "text/plain": "[(4006321, 'BATTERY', 'SCHOOL, PUBLIC, GROUNDS'),\n (4430638, 'BATTERY', 'SCHOOL, PUBLIC, BUILDING'),\n (6644618, 'BATTERY', 'SCHOOL, PUBLIC, BUILDING'),\n (2341955, 'BATTERY', 'SCHOOL, PUBLIC, BUILDING'),\n (11110571, 'BATTERY', 'SCHOOL, PUBLIC, GROUNDS'),\n (7399281, 'CRIMINAL DAMAGE', 'SCHOOL, PUBLIC, GROUNDS'),\n (3530721, 'NARCOTICS', 'SCHOOL, PUBLIC, GROUNDS'),\n (7502426, 'NARCOTICS', 'SCHOOL, PUBLIC, BUILDING'),\n (8082600, 'ASSAULT', 'SCHOOL, PUBLIC, GROUNDS'),\n (7174283, 'CRIMINAL TRESPASS', 'SCHOOL, PUBLIC, GROUNDS'),\n (2075734, 'PUBLIC PEACE VIOLATION', 'SCHOOL, PRIVATE, BUILDING'),\n (1806896, 'PUBLIC PEACE VIOLATION', 'SCHOOL, PUBLIC, BUILDING')]",
                        "text/html": "<table>\n    <tr>\n        <th>id</th>\n        <th>primary_type</th>\n        <th>location_description</th>\n    </tr>\n    <tr>\n        <td>4006321</td>\n        <td>BATTERY</td>\n        <td>SCHOOL, PUBLIC, GROUNDS</td>\n    </tr>\n    <tr>\n        <td>4430638</td>\n        <td>BATTERY</td>\n        <td>SCHOOL, PUBLIC, BUILDING</td>\n    </tr>\n    <tr>\n        <td>6644618</td>\n        <td>BATTERY</td>\n        <td>SCHOOL, PUBLIC, BUILDING</td>\n    </tr>\n    <tr>\n        <td>2341955</td>\n        <td>BATTERY</td>\n        <td>SCHOOL, PUBLIC, BUILDING</td>\n    </tr>\n    <tr>\n        <td>11110571</td>\n        <td>BATTERY</td>\n        <td>SCHOOL, PUBLIC, GROUNDS</td>\n    </tr>\n    <tr>\n        <td>7399281</td>\n        <td>CRIMINAL DAMAGE</td>\n        <td>SCHOOL, PUBLIC, GROUNDS</td>\n    </tr>\n    <tr>\n        <td>3530721</td>\n        <td>NARCOTICS</td>\n        <td>SCHOOL, PUBLIC, GROUNDS</td>\n    </tr>\n    <tr>\n        <td>7502426</td>\n        <td>NARCOTICS</td>\n        <td>SCHOOL, PUBLIC, BUILDING</td>\n    </tr>\n    <tr>\n        <td>8082600</td>\n        <td>ASSAULT</td>\n        <td>SCHOOL, PUBLIC, GROUNDS</td>\n    </tr>\n    <tr>\n        <td>7174283</td>\n        <td>CRIMINAL TRESPASS</td>\n        <td>SCHOOL, PUBLIC, GROUNDS</td>\n    </tr>\n    <tr>\n        <td>2075734</td>\n        <td>PUBLIC PEACE VIOLATION</td>\n        <td>SCHOOL, PRIVATE, BUILDING</td>\n    </tr>\n    <tr>\n        <td>1806896</td>\n        <td>PUBLIC PEACE VIOLATION</td>\n        <td>SCHOOL, PUBLIC, BUILDING</td>\n    </tr>\n</table>"
                    },
                    "metadata": {}
                }
            ]
        },
        {
            "metadata": {},
            "cell_type": "markdown",
            "source": "### Problem 6\n\n##### List the average safety score for all types of schools.\n"
        },
        {
            "metadata": {},
            "cell_type": "code",
            "source": "%sql select AVG(SAFETY_SCORE) as average_score from CHICAGO_PUBLIC_SCHOOLS;",
            "execution_count": 19,
            "outputs": [
                {
                    "output_type": "stream",
                    "text": " * ibm_db_sa://zrv74471:***@ba99a9e6-d59e-4883-8fc0-d6a8c9f7a08f.c1ogj3sd0tgtu0lqde00.databases.appdomain.cloud:31321/BLUDB\nDone.\n",
                    "name": "stdout"
                },
                {
                    "output_type": "execute_result",
                    "execution_count": 19,
                    "data": {
                        "text/plain": "[(49.50487329434698,)]",
                        "text/html": "<table>\n    <tr>\n        <th>average_score</th>\n    </tr>\n    <tr>\n        <td>49.50487329434698</td>\n    </tr>\n</table>"
                    },
                    "metadata": {}
                }
            ]
        },
        {
            "metadata": {},
            "cell_type": "markdown",
            "source": "### Problem 7\n\n##### List 5 community areas with highest % of households below poverty line\n"
        },
        {
            "metadata": {},
            "cell_type": "code",
            "source": "%sql select COMMUNITY_AREA_NAME,PERCENT_HOUSEHOLDS_BELOW_POVERTY from CENSUS_DATA ORDER BY PERCENT_HOUSEHOLDS_BELOW_POVERTY DESC LIMIT 5",
            "execution_count": 27,
            "outputs": [
                {
                    "output_type": "stream",
                    "text": " * ibm_db_sa://zrv74471:***@ba99a9e6-d59e-4883-8fc0-d6a8c9f7a08f.c1ogj3sd0tgtu0lqde00.databases.appdomain.cloud:31321/BLUDB\nDone.\n",
                    "name": "stdout"
                },
                {
                    "output_type": "execute_result",
                    "execution_count": 27,
                    "data": {
                        "text/plain": "[('Riverdale', 56.5),\n ('Fuller Park', 51.2),\n ('Englewood', 46.6),\n ('North Lawndale', 43.1),\n ('East Garfield Park', 42.4)]",
                        "text/html": "<table>\n    <tr>\n        <th>community_area_name</th>\n        <th>percent_households_below_poverty</th>\n    </tr>\n    <tr>\n        <td>Riverdale</td>\n        <td>56.5</td>\n    </tr>\n    <tr>\n        <td>Fuller Park</td>\n        <td>51.2</td>\n    </tr>\n    <tr>\n        <td>Englewood</td>\n        <td>46.6</td>\n    </tr>\n    <tr>\n        <td>North Lawndale</td>\n        <td>43.1</td>\n    </tr>\n    <tr>\n        <td>East Garfield Park</td>\n        <td>42.4</td>\n    </tr>\n</table>"
                    },
                    "metadata": {}
                }
            ]
        },
        {
            "metadata": {},
            "cell_type": "markdown",
            "source": "### Problem 8\n\n##### Which community area is most crime prone?\n"
        },
        {
            "metadata": {},
            "cell_type": "code",
            "source": "%sql SELECT COMMUNITY_AREA_NUMBER ,COUNT(COMMUNITY_AREA_NUMBER) AS FREQUENCY FROM CHICAGO_CRIME_DATA \\\nGROUP BY COMMUNITY_AREA_NUMBER \\\nORDER BY COUNT(COMMUNITY_AREA_NUMBER) DESC LIMIT 1\n",
            "execution_count": 40,
            "outputs": [
                {
                    "output_type": "stream",
                    "text": " * ibm_db_sa://zrv74471:***@ba99a9e6-d59e-4883-8fc0-d6a8c9f7a08f.c1ogj3sd0tgtu0lqde00.databases.appdomain.cloud:31321/BLUDB\nDone.\n",
                    "name": "stdout"
                },
                {
                    "output_type": "execute_result",
                    "execution_count": 40,
                    "data": {
                        "text/plain": "[(25.0, 43)]",
                        "text/html": "<table>\n    <tr>\n        <th>community_area_number</th>\n        <th>frequency</th>\n    </tr>\n    <tr>\n        <td>25.0</td>\n        <td>43</td>\n    </tr>\n</table>"
                    },
                    "metadata": {}
                }
            ]
        },
        {
            "metadata": {},
            "cell_type": "markdown",
            "source": "Double-click **here** for a hint\n\n<!--\nQuery for the 'community area number' that is most crime prone.\n-->\n"
        },
        {
            "metadata": {},
            "cell_type": "markdown",
            "source": "### Problem 9\n\n##### Use a sub-query to find the name of the community area with highest hardship index\n"
        },
        {
            "metadata": {},
            "cell_type": "code",
            "source": "%sql SELECT COMMUNITY_AREA_NAME, HARDSHIP_INDEX FROM CENSUS_DATA WHERE HARDSHIP_INDEX = (SELECT MAX(HARDSHIP_INDEX) FROM CENSUS_DATA)",
            "execution_count": 46,
            "outputs": [
                {
                    "output_type": "stream",
                    "text": " * ibm_db_sa://zrv74471:***@ba99a9e6-d59e-4883-8fc0-d6a8c9f7a08f.c1ogj3sd0tgtu0lqde00.databases.appdomain.cloud:31321/BLUDB\nDone.\n",
                    "name": "stdout"
                },
                {
                    "output_type": "execute_result",
                    "execution_count": 46,
                    "data": {
                        "text/plain": "[('Riverdale', 98.0)]",
                        "text/html": "<table>\n    <tr>\n        <th>community_area_name</th>\n        <th>hardship_index</th>\n    </tr>\n    <tr>\n        <td>Riverdale</td>\n        <td>98.0</td>\n    </tr>\n</table>"
                    },
                    "metadata": {}
                }
            ]
        },
        {
            "metadata": {},
            "cell_type": "markdown",
            "source": "### Problem 10\n\n##### Use a sub-query to determine the Community Area Name with most number of crimes?\n"
        },
        {
            "metadata": {},
            "cell_type": "code",
            "source": "%sql select COMMUNITY_AREA_NAME from CENSUS_DATA \\\nwhere COMMUNITY_AREA_NUMBER IN (select COMMUNITY_AREA_NUMBER from CHICAGO_CRIME_DATA GROUP BY \\\n                                COMMUNITY_AREA_NUMBER ORDER BY COUNT(COMMUNITY_AREA_NUMBER) DESC LIMIT 1)",
            "execution_count": 65,
            "outputs": [
                {
                    "output_type": "stream",
                    "text": " * ibm_db_sa://zrv74471:***@ba99a9e6-d59e-4883-8fc0-d6a8c9f7a08f.c1ogj3sd0tgtu0lqde00.databases.appdomain.cloud:31321/BLUDB\nDone.\n",
                    "name": "stdout"
                },
                {
                    "output_type": "execute_result",
                    "execution_count": 65,
                    "data": {
                        "text/plain": "[('Austin',)]",
                        "text/html": "<table>\n    <tr>\n        <th>community_area_name</th>\n    </tr>\n    <tr>\n        <td>Austin</td>\n    </tr>\n</table>"
                    },
                    "metadata": {}
                }
            ]
        },
        {
            "metadata": {},
            "cell_type": "markdown",
            "source": "Copyright \u00a9 2020 [cognitiveclass.ai](cognitiveclass.ai?utm_source=bducopyrightlink&utm_medium=dswb&utm_campaign=bdu). This notebook and its source code are released under the terms of the [MIT License](https://bigdatauniversity.com/mit-license?utm_medium=Exinfluencer&utm_source=Exinfluencer&utm_content=000026UJ&utm_term=10006555&utm_id=NA-SkillsNetwork-Channel-SkillsNetworkCoursesIBMDeveloperSkillsNetworkDB0201ENSkillsNetwork20127838-2021-01-01&cm_mmc=Email_Newsletter-\\_-Developer_Ed%2BTech-\\_-WW_WW-\\_-SkillsNetwork-Courses-IBMDeveloperSkillsNetwork-DB0201EN-SkillsNetwork-20127838&cm_mmca1=000026UJ&cm_mmca2=10006555&cm_mmca3=M12345678&cvosrc=email.Newsletter.M12345678&cvo_campaign=000026UJ).\n"
        },
        {
            "metadata": {},
            "cell_type": "markdown",
            "source": "## Author(s)\n\n<h4> Hima Vasudevan </h4>\n<h4> Rav Ahuja </h4>\n<h4> Ramesh Sannreddy </h4>\n\n## Contribtuor(s)\n\n<h4> Malika Singla </h4>\n\n## Change log\n\n| Date       | Version | Changed by        | Change Description                             |\n| ---------- | ------- | ----------------- | ---------------------------------------------- |\n| 2021-05-19 | 2.4     | Lakshmi Holla     | Updated the question                           |\n| 2021-04-30 | 2.3     | Malika Singla     | Updated the libraries                          |\n| 2021-01-15 | 2.2     | Rav Ahuja         | Removed problem 11 and fixed changelog         |\n| 2020-11-25 | 2.1     | Ramesh Sannareddy | Updated the problem statements, and datasets   |\n| 2020-09-05 | 2.0     | Malika Singla     | Moved lab to course repo in GitLab             |\n| 2018-07-18 | 1.0     | Rav Ahuja         | Several updates including loading instructions |\n| 2018-05-04 | 0.1     | Hima Vasudevan    | Created initial version                        |\n\n## <h3 align=\"center\"> \u00a9 IBM Corporation 2020. All rights reserved. <h3/>\n"
        }
    ],
    "metadata": {
        "kernelspec": {
            "name": "python3",
            "display_name": "Python 3.8",
            "language": "python"
        },
        "widgets": {
            "state": {},
            "version": "1.1.2"
        },
        "language_info": {
            "name": "python",
            "version": "3.8.11",
            "mimetype": "text/x-python",
            "codemirror_mode": {
                "name": "ipython",
                "version": 3
            },
            "pygments_lexer": "ipython3",
            "nbconvert_exporter": "python",
            "file_extension": ".py"
        }
    },
    "nbformat": 4,
    "nbformat_minor": 4
}
